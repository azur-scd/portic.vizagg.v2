{
 "cells": [
  {
   "cell_type": "code",
   "execution_count": 3,
   "id": "49c10d1c-4f00-44a0-b45f-cd963fc6debc",
   "metadata": {},
   "outputs": [],
   "source": [
    "import vaex\n",
    "import vaex.jupyter\n",
    "import pandas as pd\n",
    "import requests\n",
    "import json"
   ]
  },
  {
   "cell_type": "markdown",
   "id": "a598733d-e902-450c-8f48-323a4bf152d8",
   "metadata": {},
   "source": [
    "# Data preprocessing"
   ]
  },
  {
   "cell_type": "markdown",
   "id": "e38b2e4c-360f-406e-851f-29080bb6e8ba",
   "metadata": {},
   "source": [
    "## Fetch travels data from Portic API"
   ]
  },
  {
   "cell_type": "code",
   "execution_count": 6,
   "id": "0a399e13-c246-48ab-a2d9-6fc5be957a4e",
   "metadata": {},
   "outputs": [],
   "source": [
    "portic_api_url = \"http://data.portic.fr/api/travels\"\n",
    "api_params = 'travel_id,outdate_fixed,distance_dep_dest_miles,departure,departure_latitude,departure_longitude,departure_admiralty,departure_province,departure_uncertainity,destination,destination_latitude,destination_longitude,destination_admiralty,destination_province,destination_uncertainity,travel_uncertainity,tonnage,commodity_id'\n",
    "def get_portic_api_data():\n",
    "    headers = {'Accept': 'application/json'}\n",
    "    params = {'params': f'{api_params}',\n",
    "              'shortenfields': 'false',\n",
    "              'both_to': 'false',\n",
    "              'date': '1787'}\n",
    "    response = requests.request(\n",
    "        \"GET\", portic_api_url, headers=headers, params=params)\n",
    "    data = json.loads(response.text)\n",
    "    df = pd.DataFrame(data)\n",
    "    return df\n",
    "\n",
    "df = get_portic_api_data()\n",
    "df.to_json(\"../static/data/travels_init.json\", orient=\"records\", force_ascii=False)"
   ]
  },
  {
   "cell_type": "code",
   "execution_count": 7,
   "id": "f3b5b104-6972-4306-93de-348c7dc6fc96",
   "metadata": {},
   "outputs": [
    {
     "data": {
      "text/plain": [
       "(39451, 18)"
      ]
     },
     "execution_count": 7,
     "metadata": {},
     "output_type": "execute_result"
    }
   ],
   "source": [
    "df.shape"
   ]
  },
  {
   "cell_type": "markdown",
   "id": "f3236533-d48b-49dc-8a62-baad22e948cb",
   "metadata": {},
   "source": [
    "### Process"
   ]
  },
  {
   "cell_type": "code",
   "execution_count": 8,
   "id": "130fd9c8-a3cd-4e77-b838-d06b6495a43f",
   "metadata": {},
   "outputs": [
    {
     "name": "stderr",
     "output_type": "stream",
     "text": [
      "C:\\Users\\BUNICE\\AppData\\Local\\Temp\\ipykernel_11472\\3882798018.py:24: FutureWarning: Series.dt.weekofyear and Series.dt.week have been deprecated. Please use Series.dt.isocalendar().week instead.\n",
      "  df['outdate_fixed_datetime_week'] = df['outdate_fixed_datetime'].dt.week\n"
     ]
    }
   ],
   "source": [
    "# Step: Keep rows where (departure_admiralty is not missing) and (destination_admiralty is not missing)\n",
    "df = df.loc[(df['departure_admiralty'].notna()) & (df['destination_admiralty'].notna())]\n",
    "\n",
    "# Step: Replace missing values\n",
    "df[['distance_dep_dest_miles', 'tonnage']] = df[['distance_dep_dest_miles', 'tonnage']].fillna(0)\n",
    "\n",
    "# Step: Change data type of ['distance_dep_dest_miles', 'tonnage'] to Integer\n",
    "for column_name in ['distance_dep_dest_miles', 'tonnage']:\n",
    "    df[column_name] = df[column_name].astype('float')\n",
    "\n",
    "# Step: Keep rows where outdate_fixed starts with 1787\n",
    "df = df.loc[df['outdate_fixed'].str.startswith('1787', na=False)]\n",
    "\n",
    "# Step: Change data type of outdate_fixed to Datetime\n",
    "df['outdate_fixed_datetime'] = pd.to_datetime(df['outdate_fixed'], format='%Y-%m-%d')\n",
    "\n",
    "# Step: Extract datetime attribute(s) month number from 'outdate_fixed_datetime'\n",
    "df['outdate_fixed_datetime_month_number'] = df['outdate_fixed_datetime'].dt.month\n",
    "\n",
    "# Step: Extract datetime attribute(s) month name from 'outdate_fixed_datetime'\n",
    "df['outdate_fixed_datetime_month_name'] = df['outdate_fixed_datetime'].dt.month_name()\n",
    "\n",
    "# Step: Extract datetime attribute(s) week from 'outdate_fixed_datetime'\n",
    "df['outdate_fixed_datetime_week'] = df['outdate_fixed_datetime'].dt.week\n",
    "\n",
    "# Step: Change data type of ['outdate_fixed_datetime_month_number', 'outdate_fixed_datetime_week'] to String/Text\n",
    "for column_name in ['outdate_fixed_datetime_month_number', 'outdate_fixed_datetime_week']:\n",
    "    df[column_name] = df[column_name].astype('string')\n",
    "    \n",
    "# Step: Drop columns\n",
    "df = df.drop(columns=['outdate_fixed'])\n",
    "\n",
    "# Step: Change data type of commodity_id to String/Text\n",
    "df['commodity_id'] = df['commodity_id'].astype('string')\n",
    "#df['commodity_id'] = df['commodity_id'].astype(object).replace(np.nan, 'None')\n",
    "\n",
    "# Step: Manipulate strings of 'commodity_id' via Find '.0' and Replace with ''\n",
    "df[\"commodity_id\"] = df[\"commodity_id\"].str.replace('.0', '', regex=False)\n",
    "df[\"commodity_id\"] = df[\"commodity_id\"].apply(lambda x: x.zfill(8) if (pd.notnull(x)) else x)"
   ]
  },
  {
   "cell_type": "code",
   "execution_count": 9,
   "id": "a1fc8cd8-5509-4339-bc02-f0bc9d15b025",
   "metadata": {},
   "outputs": [
    {
     "data": {
      "text/plain": [
       "(25432, 21)"
      ]
     },
     "execution_count": 9,
     "metadata": {},
     "output_type": "execute_result"
    }
   ],
   "source": [
    "df.shape"
   ]
  },
  {
   "cell_type": "markdown",
   "id": "1ca3f36f-f110-42e7-a64b-2b472d2c3fc6",
   "metadata": {},
   "source": [
    "## Fetch products data from Portic new products API"
   ]
  },
  {
   "cell_type": "code",
   "execution_count": 10,
   "id": "0274ec70-e74c-4f1d-8658-0902d70053e2",
   "metadata": {},
   "outputs": [],
   "source": [
    "portic_products_api_url = \"http://data.portic.fr/api/cargo_categories/\"\n",
    "def get_portic_products_api_data():\n",
    "    headers = {'Accept': 'application/json'}\n",
    "    response = requests.request(\n",
    "        \"GET\", portic_products_api_url, headers=headers)\n",
    "    data = json.loads(response.text)\n",
    "    df = pd.DataFrame(data)\n",
    "    return df\n",
    "\n",
    "df_products = get_portic_products_api_data()"
   ]
  },
  {
   "cell_type": "markdown",
   "id": "e9192741-bdde-4fc9-9479-d7d597dfbb1e",
   "metadata": {},
   "source": [
    "### Save raw data"
   ]
  },
  {
   "cell_type": "code",
   "execution_count": 11,
   "id": "6f8c5c7f-3ad5-4f61-86b1-9aa29385dfce",
   "metadata": {},
   "outputs": [],
   "source": [
    "df_products.to_json(\"../static/data/products.json\", orient=\"records\", force_ascii=False)"
   ]
  },
  {
   "cell_type": "markdown",
   "id": "2ffc379d-faf8-4d08-bcf5-adeaf39c92dc",
   "metadata": {},
   "source": [
    "## Merge"
   ]
  },
  {
   "cell_type": "code",
   "execution_count": 13,
   "id": "d72ac26a-b9b2-4e48-a168-396a8412bdac",
   "metadata": {},
   "outputs": [],
   "source": [
    "# Step: Left Join with df1 where commodity_id=record_id\n",
    "df_travels = pd.merge(df, df_products[['record_id', 'commodity_standardized_fr', 'category_portic_fr']], how='left', left_on=['commodity_id'], right_on=['record_id']).drop(columns=['record_id'])"
   ]
  },
  {
   "cell_type": "markdown",
   "id": "8c546c16-d44a-43b0-86b3-36f1ed8cefc1",
   "metadata": {},
   "source": [
    "## Save"
   ]
  },
  {
   "cell_type": "code",
   "execution_count": 14,
   "id": "efb7de2c-c334-4b1f-8526-a59d16cc8dcc",
   "metadata": {},
   "outputs": [
    {
     "data": {
      "text/plain": [
       "(25432, 21)"
      ]
     },
     "execution_count": 14,
     "metadata": {},
     "output_type": "execute_result"
    }
   ],
   "source": [
    "df.shape"
   ]
  },
  {
   "cell_type": "code",
   "execution_count": 15,
   "id": "0c2b326e-d560-4e3c-8788-76d639a620c6",
   "metadata": {},
   "outputs": [],
   "source": [
    "df_travels.to_json(\"../static/data/travels.json\", orient=\"records\", force_ascii=False)"
   ]
  },
  {
   "cell_type": "markdown",
   "id": "3eaf9e04-0105-4042-9507-729499faba48",
   "metadata": {},
   "source": [
    "# Vaex stuffs"
   ]
  },
  {
   "cell_type": "markdown",
   "id": "eb100dca-5ed0-405f-b100-ada0435bc98e",
   "metadata": {},
   "source": [
    "https://vaex.io/blog/8-incredibly-powerful-Vaex-features-you-might-have-not-known-about"
   ]
  },
  {
   "cell_type": "markdown",
   "id": "66aeeab1-f7ff-4d42-ad5d-deefb65f5477",
   "metadata": {},
   "source": [
    "### Read data"
   ]
  },
  {
   "cell_type": "code",
   "execution_count": 8,
   "id": "071d4048-b8cc-4c78-aaaa-0a5c1f4fefe2",
   "metadata": {},
   "outputs": [
    {
     "data": {
      "text/html": [
       "<table>\n",
       "<thead>\n",
       "<tr><th>#                                 </th><th>travel_id   </th><th>distance_dep_dest_miles  </th><th>departure      </th><th>departure_latitude  </th><th>departure_longitude  </th><th>departure_admiralty  </th><th>departure_province  </th><th>departure_uncertainity  </th><th>destination  </th><th>destination_latitude  </th><th>destination_longitude  </th><th>destination_admiralty  </th><th>destination_province  </th><th>destination_uncertainity  </th><th>travel_uncertainity  </th><th>tonnage  </th><th>commodity_id  </th><th>outdate_fixed_datetime  </th><th>outdate_fixed_datetime_month_number  </th><th>outdate_fixed_datetime_month_name  </th><th>outdate_fixed_datetime_week  </th><th>commodity_standardized_fr  </th><th>category_portic_fr  </th></tr>\n",
       "</thead>\n",
       "<tbody>\n",
       "<tr><td><i style='opacity: 0.6'>0</i>     </td><td>0000076N- 29</td><td>20                       </td><td>Granville      </td><td>48.838204           </td><td>-1.597853            </td><td>Granville            </td><td>Normandie           </td><td>0                       </td><td>Saint-Malo   </td><td>48.65                 </td><td>-2.016667              </td><td>Saint-Malo             </td><td>Bretagne              </td><td>0                         </td><td>0                    </td><td>19.0     </td><td>94.0          </td><td>-5754326400000          </td><td>8                                    </td><td>August                             </td><td>35                           </td><td>Lest                       </td><td>Sur lest et vides   </td></tr>\n",
       "<tr><td><i style='opacity: 0.6'>1</i>     </td><td>0005962N- 07</td><td>20                       </td><td>Tonnay-Charente</td><td>45.95               </td><td>-0.9                 </td><td>Marennes             </td><td>Saintonge           </td><td>0                       </td><td>île de Ré    </td><td>46.2                  </td><td>-1.416667              </td><td>La Rochelle            </td><td>Aunis                 </td><td>-3                        </td><td>-2                   </td><td>20.0     </td><td>nan           </td><td>-5764780800000          </td><td>4                                    </td><td>April                              </td><td>17                           </td><td>--                         </td><td>--                  </td></tr>\n",
       "<tr><td><i style='opacity: 0.6'>2</i>     </td><td>0000624N- 05</td><td>32                       </td><td>Le Havre       </td><td>49.5                </td><td>0.133333             </td><td>Le Havre             </td><td>Normandie           </td><td>0                       </td><td>Caudebec     </td><td>49.524483             </td><td>0.725362               </td><td>Caudebec et Quilleboeuf</td><td>Normandie             </td><td>-5                        </td><td>-3                   </td><td>13.0     </td><td>nan           </td><td>-5767372800000          </td><td>3                                    </td><td>March                              </td><td>13                           </td><td>--                         </td><td>--                  </td></tr>\n",
       "<tr><td><i style='opacity: 0.6'>3</i>     </td><td>0000359N- 04</td><td>51                       </td><td>Honfleur       </td><td>49.420164           </td><td>0.231886             </td><td>Honfleur             </td><td>Normandie           </td><td>0                       </td><td>Rouen        </td><td>49.433333             </td><td>1.083333               </td><td>Rouen                  </td><td>Normandie             </td><td>0                         </td><td>0                    </td><td>112.0    </td><td>nan           </td><td>-5766854400000          </td><td>4                                    </td><td>April                              </td><td>14                           </td><td>--                         </td><td>--                  </td></tr>\n",
       "<tr><td><i style='opacity: 0.6'>4</i>     </td><td>0000624N- 16</td><td>20                       </td><td>Le Havre       </td><td>49.5                </td><td>0.133333             </td><td>Le Havre             </td><td>Normandie           </td><td>0                       </td><td>Pont-Audemer </td><td>49.35                 </td><td>0.516667               </td><td>Caudebec et Quilleboeuf</td><td>Normandie             </td><td>-5                        </td><td>-3                   </td><td>13.0     </td><td>nan           </td><td>-5761152000000          </td><td>6                                    </td><td>June                               </td><td>23                           </td><td>--                         </td><td>--                  </td></tr>\n",
       "<tr><td>...                               </td><td>...         </td><td>...                      </td><td>...            </td><td>...                 </td><td>...                  </td><td>...                  </td><td>...                 </td><td>...                     </td><td>...          </td><td>...                   </td><td>...                    </td><td>...                    </td><td>...                   </td><td>...                       </td><td>...                  </td><td>...      </td><td>...           </td><td>...                     </td><td>...                                  </td><td>...                                </td><td>...                          </td><td>...                        </td><td>...                 </td></tr>\n",
       "<tr><td><i style='opacity: 0.6'>25,427</i></td><td>0021805N- 08</td><td>48                       </td><td>Toulon         </td><td>43.116667           </td><td>5.933333             </td><td>Toulon               </td><td>Provence            </td><td>0                       </td><td>Marseille    </td><td>43.3                  </td><td>5.4                    </td><td>Marseille              </td><td>Provence              </td><td>0                         </td><td>0                    </td><td>0.0      </td><td>630.0         </td><td>-5762707200000          </td><td>5                                    </td><td>May                                </td><td>21                           </td><td>Pierres                    </td><td>Autres et divers    </td></tr>\n",
       "<tr><td><i style='opacity: 0.6'>25,428</i></td><td>0000288N- 11</td><td>324                      </td><td>Brest          </td><td>48.4                </td><td>-4.483333            </td><td>Brest                </td><td>Bretagne            </td><td>0                       </td><td>Bordeaux     </td><td>44.833333             </td><td>-0.566667              </td><td>Bordeaux               </td><td>Guyenne               </td><td>-4                        </td><td>-1                   </td><td>60.0     </td><td>94.0          </td><td>-5744476800000          </td><td>12                                   </td><td>December                           </td><td>51                           </td><td>Lest                       </td><td>Sur lest et vides   </td></tr>\n",
       "<tr><td><i style='opacity: 0.6'>25,429</i></td><td>0000625N- 16</td><td>56                       </td><td>Rouen          </td><td>49.433333           </td><td>1.083333             </td><td>Rouen                </td><td>Normandie           </td><td>0                       </td><td>Quillebeuf   </td><td>49.466667             </td><td>0.516667               </td><td>Quillebeuf             </td><td>Normandie             </td><td>0                         </td><td>0                    </td><td>45.0     </td><td>nan           </td><td>-5754585600000          </td><td>8                                    </td><td>August                             </td><td>34                           </td><td>--                         </td><td>--                  </td></tr>\n",
       "<tr><td><i style='opacity: 0.6'>25,430</i></td><td>0000591N- 15</td><td>142                      </td><td>Le Havre       </td><td>49.5                </td><td>0.133333             </td><td>Le Havre             </td><td>Normandie           </td><td>0                       </td><td>Dunkerque    </td><td>51.05                 </td><td>2.366667               </td><td>Dunkerque              </td><td>Flandre               </td><td>-4                        </td><td>-1                   </td><td>36.0     </td><td>nan           </td><td>-5744476800000          </td><td>12                                   </td><td>December                           </td><td>51                           </td><td>--                         </td><td>--                  </td></tr>\n",
       "<tr><td><i style='opacity: 0.6'>25,431</i></td><td>0000600N- 03</td><td>56                       </td><td>Rouen          </td><td>49.433333           </td><td>1.083333             </td><td>Rouen                </td><td>Normandie           </td><td>0                       </td><td>Quillebeuf   </td><td>49.466667             </td><td>0.516667               </td><td>Quillebeuf             </td><td>Normandie             </td><td>0                         </td><td>0                    </td><td>80.0     </td><td>nan           </td><td>-5769964800000          </td><td>2                                    </td><td>February                           </td><td>9                            </td><td>--                         </td><td>--                  </td></tr>\n",
       "</tbody>\n",
       "</table>"
      ],
      "text/plain": [
       "#       travel_id     distance_dep_dest_miles    departure        departure_latitude    departure_longitude    departure_admiralty    departure_province    departure_uncertainity    destination    destination_latitude    destination_longitude    destination_admiralty    destination_province    destination_uncertainity    travel_uncertainity    tonnage    commodity_id    outdate_fixed_datetime    outdate_fixed_datetime_month_number    outdate_fixed_datetime_month_name    outdate_fixed_datetime_week    commodity_standardized_fr    category_portic_fr\n",
       "0       0000076N- 29  20                         Granville        48.838204             -1.597853              Granville              Normandie             0                         Saint-Malo     48.65                   -2.016667                Saint-Malo               Bretagne                0                           0                      19.0       94.0            -5754326400000            8                                      August                               35                             Lest                         Sur lest et vides\n",
       "1       0005962N- 07  20                         Tonnay-Charente  45.95                 -0.9                   Marennes               Saintonge             0                         île de Ré      46.2                    -1.416667                La Rochelle              Aunis                   -3                          -2                     20.0       nan             -5764780800000            4                                      April                                17                             --                           --\n",
       "2       0000624N- 05  32                         Le Havre         49.5                  0.133333               Le Havre               Normandie             0                         Caudebec       49.524483               0.725362                 Caudebec et Quilleboeuf  Normandie               -5                          -3                     13.0       nan             -5767372800000            3                                      March                                13                             --                           --\n",
       "3       0000359N- 04  51                         Honfleur         49.420164             0.231886               Honfleur               Normandie             0                         Rouen          49.433333               1.083333                 Rouen                    Normandie               0                           0                      112.0      nan             -5766854400000            4                                      April                                14                             --                           --\n",
       "4       0000624N- 16  20                         Le Havre         49.5                  0.133333               Le Havre               Normandie             0                         Pont-Audemer   49.35                   0.516667                 Caudebec et Quilleboeuf  Normandie               -5                          -3                     13.0       nan             -5761152000000            6                                      June                                 23                             --                           --\n",
       "...     ...           ...                        ...              ...                   ...                    ...                    ...                   ...                       ...            ...                     ...                      ...                      ...                     ...                         ...                    ...        ...             ...                       ...                                    ...                                  ...                            ...                          ...\n",
       "25,427  0021805N- 08  48                         Toulon           43.116667             5.933333               Toulon                 Provence              0                         Marseille      43.3                    5.4                      Marseille                Provence                0                           0                      0.0        630.0           -5762707200000            5                                      May                                  21                             Pierres                      Autres et divers\n",
       "25,428  0000288N- 11  324                        Brest            48.4                  -4.483333              Brest                  Bretagne              0                         Bordeaux       44.833333               -0.566667                Bordeaux                 Guyenne                 -4                          -1                     60.0       94.0            -5744476800000            12                                     December                             51                             Lest                         Sur lest et vides\n",
       "25,429  0000625N- 16  56                         Rouen            49.433333             1.083333               Rouen                  Normandie             0                         Quillebeuf     49.466667               0.516667                 Quillebeuf               Normandie               0                           0                      45.0       nan             -5754585600000            8                                      August                               34                             --                           --\n",
       "25,430  0000591N- 15  142                        Le Havre         49.5                  0.133333               Le Havre               Normandie             0                         Dunkerque      51.05                   2.366667                 Dunkerque                Flandre                 -4                          -1                     36.0       nan             -5744476800000            12                                     December                             51                             --                           --\n",
       "25,431  0000600N- 03  56                         Rouen            49.433333             1.083333               Rouen                  Normandie             0                         Quillebeuf     49.466667               0.516667                 Quillebeuf               Normandie               0                           0                      80.0       nan             -5769964800000            2                                      February                             9                              --                           --"
      ]
     },
     "execution_count": 8,
     "metadata": {},
     "output_type": "execute_result"
    }
   ],
   "source": [
    "df_vaex_json = vaex.from_json('../static/data/travels.json', orient='records', copy_index=False)\n",
    "df_vaex_json"
   ]
  },
  {
   "cell_type": "code",
   "execution_count": 37,
   "id": "8f306e01-8cfc-423b-9eb3-4a9b2647a121",
   "metadata": {},
   "outputs": [],
   "source": [
    "# from pandas dataframe\n",
    "#df_vaex = vaex.from_pandas(df=df, copy_index=False)"
   ]
  },
  {
   "cell_type": "code",
   "execution_count": 6,
   "id": "b10e517c-467c-4e7d-a84b-8174f9b52a41",
   "metadata": {},
   "outputs": [],
   "source": [
    "df1 = df_vaex_json[(df_vaex_json.departure.isin([\"Bordeaux\", \"Le Havre\"])) & (df_vaex_json.destination.isin([\"La Rochelle\"]))]"
   ]
  },
  {
   "cell_type": "markdown",
   "id": "8f68ea8f-ea59-4a90-a78f-5ba9042416c2",
   "metadata": {},
   "source": [
    "### Data manipulation"
   ]
  },
  {
   "cell_type": "code",
   "execution_count": 20,
   "id": "8d851a6b-cfec-4cb4-8cf0-342f88a8ec47",
   "metadata": {},
   "outputs": [
    {
     "data": {
      "text/html": [
       "<table>\n",
       "<thead>\n",
       "<tr><th>#                              </th><th>category_portic_fr                                 </th><th>commodity_standardized_fr  </th><th>count  </th></tr>\n",
       "</thead>\n",
       "<tbody>\n",
       "<tr><td><i style='opacity: 0.6'>0</i>  </td><td>Bois divers et sous-produits du bois               </td><td>Planche                    </td><td>258    </td></tr>\n",
       "<tr><td><i style='opacity: 0.6'>1</i>  </td><td>Êtres humains                                      </td><td>Passager                   </td><td>259    </td></tr>\n",
       "<tr><td><i style='opacity: 0.6'>2</i>  </td><td>Autres produits alimentaires                       </td><td>Fruits sec                 </td><td>4      </td></tr>\n",
       "<tr><td><i style='opacity: 0.6'>3</i>  </td><td>Céréales et légumineuses                           </td><td>Blé d&#x27; Inde                </td><td>2      </td></tr>\n",
       "<tr><td><i style='opacity: 0.6'>4</i>  </td><td>&#x27;Combustibles, produits intermédiaires et autres...</td><td>Huile de poisson           </td><td>3      </td></tr>\n",
       "<tr><td>...                            </td><td>...                                                </td><td>...                        </td><td>...    </td></tr>\n",
       "<tr><td><i style='opacity: 0.6'>244</i></td><td>Autres produits alimentaires                       </td><td>Beurre                     </td><td>54     </td></tr>\n",
       "<tr><td><i style='opacity: 0.6'>245</i></td><td>Autres produits alimentaires                       </td><td>Boeuf salé                 </td><td>6      </td></tr>\n",
       "<tr><td><i style='opacity: 0.6'>246</i></td><td>Produits textiles                                  </td><td>Toile                      </td><td>28     </td></tr>\n",
       "<tr><td><i style='opacity: 0.6'>247</i></td><td>Autres produits alimentaires                       </td><td>Vivres                     </td><td>5      </td></tr>\n",
       "<tr><td><i style='opacity: 0.6'>248</i></td><td>Êtres humains                                      </td><td>Passager (français)        </td><td>1      </td></tr>\n",
       "</tbody>\n",
       "</table>"
      ],
      "text/plain": [
       "#    category_portic_fr                                   commodity_standardized_fr    count\n",
       "0    Bois divers et sous-produits du bois                 Planche                      258\n",
       "1    Êtres humains                                        Passager                     259\n",
       "2    Autres produits alimentaires                         Fruits sec                   4\n",
       "3    Céréales et légumineuses                             Blé d' Inde                  2\n",
       "4    'Combustibles, produits intermédiaires et autres...  Huile de poisson             3\n",
       "...  ...                                                  ...                          ...\n",
       "244  Autres produits alimentaires                         Beurre                       54\n",
       "245  Autres produits alimentaires                         Boeuf salé                   6\n",
       "246  Produits textiles                                    Toile                        28\n",
       "247  Autres produits alimentaires                         Vivres                       5\n",
       "248  Êtres humains                                        Passager (français)          1"
      ]
     },
     "execution_count": 20,
     "metadata": {},
     "output_type": "execute_result"
    }
   ],
   "source": [
    "df2 = df_vaex_json[df_vaex_json.category_portic_fr.dropmissing()].groupby(['category_portic_fr','commodity_standardized_fr'],agg='count')\n",
    "df2"
   ]
  },
  {
   "cell_type": "code",
   "execution_count": 17,
   "id": "e223739c-3cc7-4636-9c64-95162f15bae2",
   "metadata": {},
   "outputs": [
    {
     "data": {
      "text/html": [
       "<table>\n",
       "<thead>\n",
       "<tr><th>#                            </th><th>departure_province  </th><th>departure_admiralty  </th><th style=\"text-align: right;\">  tonnage_mean</th><th style=\"text-align: right;\">  tonnage_sum</th></tr>\n",
       "</thead>\n",
       "<tbody>\n",
       "<tr><td><i style='opacity: 0.6'>0</i></td><td>Normandie           </td><td>Le Havre             </td><td style=\"text-align: right;\">       76.7368</td><td style=\"text-align: right;\">         1458</td></tr>\n",
       "<tr><td><i style='opacity: 0.6'>1</i></td><td>Guyenne             </td><td>Bordeaux             </td><td style=\"text-align: right;\">       41.9077</td><td style=\"text-align: right;\">         2724</td></tr>\n",
       "</tbody>\n",
       "</table>"
      ],
      "text/plain": [
       "  #  departure_province    departure_admiralty      tonnage_mean    tonnage_sum\n",
       "  0  Normandie             Le Havre                      76.7368           1458\n",
       "  1  Guyenne               Bordeaux                      41.9077           2724"
      ]
     },
     "execution_count": 17,
     "metadata": {},
     "output_type": "execute_result"
    }
   ],
   "source": [
    "df3 = df1.groupby(by=['departure_province','departure_admiralty']).agg({\"tonnage\":[\"mean\",\"sum\"]})\n",
    "df3"
   ]
  },
  {
   "cell_type": "code",
   "execution_count": 22,
   "id": "6756ea28-3964-46fa-9a5b-869ac84809ed",
   "metadata": {},
   "outputs": [
    {
     "data": {
      "application/vnd.jupyter.widget-view+json": {
       "model_id": "689da957e7214b25a1459fb436fadd82",
       "version_major": 2,
       "version_minor": 0
      },
      "text/plain": [
       "HBox(children=(FloatProgress(value=0.0, max=1.0), Label(value='In progress...')))"
      ]
     },
     "metadata": {},
     "output_type": "display_data"
    }
   ],
   "source": [
    "df4 = df_vaex_json.groupby(df_vaex_json.departure, progress='widget').agg(\n",
    "    {'0': vaex.agg.count(df_vaex_json.travel_id, selection=df_vaex_json.departure_uncertainity == 0),\n",
    "    '-1': vaex.agg.count(df_vaex_json.travel_id, selection=df_vaex_json.departure_uncertainity == -1),\n",
    "    '-2': vaex.agg.count(df_vaex_json.travel_id, selection=df_vaex_json.departure_uncertainity == -2),\n",
    "    '-3': vaex.agg.count(df_vaex_json.travel_id, selection=df_vaex_json.departure_uncertainity == -3),\n",
    "    '-4': vaex.agg.count(df_vaex_json.travel_id, selection=df_vaex_json.departure_uncertainity == -4),\n",
    "    '-5': vaex.agg.count(df_vaex_json.travel_id, selection=df_vaex_json.departure_uncertainity == -5),\n",
    "    'total': vaex.agg.count(df_vaex_json.travel_id)}\n",
    ").sort('total', ascending=False)"
   ]
  },
  {
   "cell_type": "code",
   "execution_count": 7,
   "id": "27c81d9c",
   "metadata": {},
   "outputs": [
    {
     "data": {
      "text/html": [
       "<table>\n",
       "<thead>\n",
       "<tr><th>#                              </th><th>commodity_standardized_fr       </th><th>Agrès  </th><th>None  </th><th>Fruits frais  </th><th>Cornes de mouton  </th><th>Filet  </th><th>Passager (français)  </th><th>Sel  </th><th>Blé  </th><th>Cendre de varech  </th><th>Seigle  </th><th>Effets  </th><th>Millet  </th><th>Hareng  </th><th>Savon  </th><th>Cuir  </th><th>Pois chiches  </th><th>Amarinage  </th><th>Poudre  </th><th>Boeuf salé  </th><th>Huile de morue  </th><th>Sapin  </th><th>Cuivre (pain)  </th><th>Lest  </th><th>Pomme de terre  </th><th>Pomme  </th><th>Eau  </th><th>Réglisse (bois)  </th><th>Effets de maison  </th><th>Alpiste, escayole  </th><th>Prunes  </th><th>Sardine préssée  </th><th>Pois  </th><th>Huile  </th><th>Liège  </th><th>Maquereau  </th><th>Amidon  </th><th>Graine de lin  </th><th>Brai, poix  </th><th>Cidre  </th><th>Campeche  </th><th>Ardoise  </th><th>Bois de teinture  </th><th>Grignons, marc d&#x27; olive  </th><th>Cabotage  </th><th>Cuivre (vieux)  </th><th>Boeuf  </th><th>Bois à brûler  </th><th>Cannelle  </th><th>Pêche au hareng  </th><th>Ecorce  </th><th>Vin (bouteille)  </th><th>Filets de pêche  </th><th>Fromage  </th><th>Hareng en saumure  </th><th>Dame-jeanne  </th><th>Charbon  </th><th>Oignons  </th><th>Fanon de baleine, barbes de baleine  </th><th>Pêche à la sardine  </th><th>Anchois  </th><th>Haricots  </th><th>Thé  </th><th>Articles de parfumerie  </th><th>Poudre d&#x27; artillerie, poudre à feu  </th><th>Tabac (feuille)  </th><th>Poudre à canon  </th><th>Planches de sapin  </th><th>Effets de naufrage  </th><th>Acajou  </th><th>Café Bourbon  </th><th>Boulet  </th><th>Matures  </th><th>Denrées des colonies  </th><th>Clou  </th><th>Moussline  </th><th>Cuivre (planches)  </th><th>Droguerie  </th><th>Verre  </th><th>Feuillard  </th><th>Pavés de pierre  </th><th>Peaux, pelleteries  </th><th>Cire  </th><th>Potasse  </th><th>Huile de cachalot  </th><th>Fruits  </th><th>Goudron  </th><th>Pin  </th><th>Vinaterie  </th><th>Viande de pate  </th><th>Miel  </th><th>Bois de construction  </th><th>Chargé  </th><th>Orge  </th><th>Amandes  </th><th>Plomb  </th><th>Morue sèche  </th><th>Effets de pêche  </th><th>Pêche aux moules  </th><th>Verdet / Vert de gris  </th><th>...  </th><th>Vin espagnol  </th><th>Lège  </th><th>Jambon  </th><th>Son  </th><th>Filets (vieux)  </th><th>Morue  </th><th>Biscuit  </th><th>Fer blanc  </th><th>Jarres (vides)  </th><th>Charbon de terre  </th><th>Vesces  </th><th>Mélasses  </th><th>Raisin sec  </th><th>Genièvre  </th><th>Café (Moka)  </th><th>Tourbe  </th><th>Citron  </th><th>Toile  </th><th>Tabac (poudre)  </th><th>Sucre  </th><th>Terre  </th><th>Sardine  </th><th>Café  </th><th>Térébenthine (huile)  </th><th>Oranges portuguaises  </th><th>Chanvre  </th><th>Vinaigre  </th><th>Bière  </th><th>Cuivre  </th><th>Lard  </th><th>Effets militaires  </th><th>Vin muscat  </th><th>Pierre à chaux  </th><th>Poisson salé  </th><th>Douelle  </th><th>Hareng saur  </th><th>Beurre  </th><th>Merrain  </th><th>Sardine salée  </th><th>Sassafras  </th><th>Pêche au maquereau  </th><th>Chaux  </th><th>Douve  </th><th>Graines  </th><th>Vin blanc  </th><th>Laine  </th><th>Panier  </th><th>Marbre  </th><th>Croisière des douanes  </th><th>Chapeau de paille  </th><th>Planche  </th><th>Froment  </th><th>Fèves  </th><th>Peau de boeuf  </th><th>Poisson  </th><th>Réglisse  </th><th>Pêche aux huitres  </th><th>Chataignes  </th><th>Eau de vie d&#x27; Hendaye  </th><th>Divers, assortiment  </th><th>Morue verte  </th><th>Avoine  </th><th>Saumon  </th><th>Hardes  </th><th>Fumier  </th><th>Fer en barre  </th><th>Figue  </th><th>Tabac  </th><th>Blé d&#x27; Inde  </th><th>Bois  </th><th>Eau de vie  </th><th>Poisson sec  </th><th>Plâtre  </th><th>Terre de Broue  </th><th>Thé de l&#x27; Inde  </th><th>Bouteilles  </th><th>Grains  </th><th>Riz  </th><th>Etoupe  </th><th>Provisions  </th><th>Passager  </th><th>Cacao  </th><th>Fagots  </th><th>Souffre  </th><th>Bois de chauffage  </th><th>Cendres  </th><th>Moules  </th><th>Drap  </th><th>Porcelaine  </th><th>Trafiquer  </th><th>Fourrage  </th><th>Oranges  </th><th>Huitres  </th><th>Plombs de chasse  </th><th>Vin de Madère  </th><th>Soude  </th><th>Moutarde  </th><th>Semoule  </th><th>Diverses marchandises autorisées  </th><th style=\"text-align: right;\">  Etoffe</th></tr>\n",
       "</thead>\n",
       "<tbody>\n",
       "<tr><td><i style='opacity: 0.6'>0</i>  </td><td>Agrès                           </td><td>2      </td><td>0     </td><td>0             </td><td>0                 </td><td>0      </td><td>0                    </td><td>0    </td><td>0    </td><td>0                 </td><td>0       </td><td>0       </td><td>0       </td><td>0       </td><td>0      </td><td>0     </td><td>0             </td><td>0          </td><td>0       </td><td>0           </td><td>0               </td><td>0      </td><td>0              </td><td>0     </td><td>0               </td><td>0      </td><td>0    </td><td>0                </td><td>0                 </td><td>0                  </td><td>0       </td><td>0                </td><td>0     </td><td>0      </td><td>0      </td><td>0          </td><td>0       </td><td>0              </td><td>0           </td><td>0      </td><td>0         </td><td>0        </td><td>0                 </td><td>0                        </td><td>0         </td><td>0               </td><td>0      </td><td>0              </td><td>0         </td><td>0                </td><td>0       </td><td>0                </td><td>0                </td><td>0        </td><td>0                  </td><td>0            </td><td>0        </td><td>0        </td><td>0                                    </td><td>0                   </td><td>0        </td><td>0         </td><td>0    </td><td>0                       </td><td>0                                   </td><td>0                </td><td>0               </td><td>0                  </td><td>0                   </td><td>0       </td><td>0             </td><td>0       </td><td>0        </td><td>0                     </td><td>0     </td><td>0          </td><td>0                  </td><td>0          </td><td>0      </td><td>0          </td><td>0                </td><td>0                   </td><td>0     </td><td>0        </td><td>0                  </td><td>0       </td><td>0        </td><td>0    </td><td>0          </td><td>0               </td><td>0     </td><td>0                     </td><td>0       </td><td>0     </td><td>0        </td><td>0      </td><td>0            </td><td>0                </td><td>0                 </td><td>0                      </td><td>...  </td><td>0             </td><td>0     </td><td>0       </td><td>0    </td><td>0               </td><td>0      </td><td>0        </td><td>0          </td><td>0               </td><td>0                 </td><td>0       </td><td>0         </td><td>0           </td><td>0         </td><td>0            </td><td>0       </td><td>0       </td><td>0      </td><td>0               </td><td>0      </td><td>0      </td><td>0        </td><td>0     </td><td>0                     </td><td>0                     </td><td>0        </td><td>0         </td><td>0      </td><td>0       </td><td>0     </td><td>0                  </td><td>0           </td><td>0               </td><td>0             </td><td>0        </td><td>0            </td><td>0       </td><td>0        </td><td>0              </td><td>0          </td><td>0                   </td><td>0      </td><td>0      </td><td>0        </td><td>0          </td><td>0      </td><td>0       </td><td>0       </td><td>0                      </td><td>0                  </td><td>0        </td><td>0        </td><td>0      </td><td>0              </td><td>0        </td><td>0         </td><td>0                  </td><td>0           </td><td>0                      </td><td>0                    </td><td>0            </td><td>0       </td><td>0       </td><td>0       </td><td>0       </td><td>0             </td><td>0      </td><td>0      </td><td>0            </td><td>0     </td><td>0           </td><td>0            </td><td>0       </td><td>0               </td><td>0               </td><td>0           </td><td>0       </td><td>0    </td><td>0       </td><td>0           </td><td>0         </td><td>0      </td><td>0       </td><td>0        </td><td>0                  </td><td>0        </td><td>0       </td><td>0     </td><td>0           </td><td>0          </td><td>0         </td><td>0        </td><td>0        </td><td>0                 </td><td>0              </td><td>0      </td><td>0         </td><td>0        </td><td>0                                 </td><td style=\"text-align: right;\">       0</td></tr>\n",
       "<tr><td><i style='opacity: 0.6'>1</i>  </td><td>--                              </td><td>0      </td><td>0     </td><td>0             </td><td>0                 </td><td>0      </td><td>0                    </td><td>0    </td><td>0    </td><td>0                 </td><td>0       </td><td>0       </td><td>0       </td><td>0       </td><td>0      </td><td>0     </td><td>0             </td><td>0          </td><td>0       </td><td>0           </td><td>0               </td><td>0      </td><td>0              </td><td>0     </td><td>0               </td><td>0      </td><td>0    </td><td>0                </td><td>0                 </td><td>0                  </td><td>0       </td><td>0                </td><td>0     </td><td>0      </td><td>0      </td><td>0          </td><td>0       </td><td>0              </td><td>0           </td><td>0      </td><td>0         </td><td>0        </td><td>0                 </td><td>0                        </td><td>0         </td><td>0               </td><td>0      </td><td>0              </td><td>0         </td><td>0                </td><td>0       </td><td>0                </td><td>0                </td><td>0        </td><td>0                  </td><td>0            </td><td>0        </td><td>0        </td><td>0                                    </td><td>0                   </td><td>0        </td><td>0         </td><td>0    </td><td>0                       </td><td>0                                   </td><td>0                </td><td>0               </td><td>0                  </td><td>0                   </td><td>0       </td><td>0             </td><td>0       </td><td>0        </td><td>0                     </td><td>0     </td><td>0          </td><td>0                  </td><td>0          </td><td>0      </td><td>0          </td><td>0                </td><td>0                   </td><td>0     </td><td>0        </td><td>0                  </td><td>0       </td><td>0        </td><td>0    </td><td>0          </td><td>0               </td><td>0     </td><td>0                     </td><td>0       </td><td>0     </td><td>0        </td><td>0      </td><td>0            </td><td>0                </td><td>0                 </td><td>0                      </td><td>...  </td><td>0             </td><td>0     </td><td>0       </td><td>0    </td><td>0               </td><td>0      </td><td>0        </td><td>0          </td><td>0               </td><td>0                 </td><td>0       </td><td>0         </td><td>0           </td><td>0         </td><td>0            </td><td>0       </td><td>0       </td><td>0      </td><td>0               </td><td>0      </td><td>0      </td><td>0        </td><td>0     </td><td>0                     </td><td>0                     </td><td>0        </td><td>0         </td><td>0      </td><td>0       </td><td>0     </td><td>0                  </td><td>0           </td><td>0               </td><td>0             </td><td>0        </td><td>0            </td><td>0       </td><td>0        </td><td>0              </td><td>0          </td><td>0                   </td><td>0      </td><td>0      </td><td>0        </td><td>0          </td><td>0      </td><td>0       </td><td>0       </td><td>0                      </td><td>0                  </td><td>0        </td><td>0        </td><td>0      </td><td>0              </td><td>0        </td><td>0         </td><td>0                  </td><td>0           </td><td>0                      </td><td>0                    </td><td>0            </td><td>0       </td><td>0       </td><td>0       </td><td>0       </td><td>0             </td><td>0      </td><td>0      </td><td>0            </td><td>0     </td><td>0           </td><td>0            </td><td>0       </td><td>0               </td><td>0               </td><td>0           </td><td>0       </td><td>0    </td><td>0       </td><td>0           </td><td>0         </td><td>0      </td><td>0       </td><td>0        </td><td>0                  </td><td>0        </td><td>0       </td><td>0     </td><td>0           </td><td>0          </td><td>0         </td><td>0        </td><td>0        </td><td>0                 </td><td>0              </td><td>0      </td><td>0         </td><td>0        </td><td>0                                 </td><td style=\"text-align: right;\">       0</td></tr>\n",
       "<tr><td><i style='opacity: 0.6'>2</i>  </td><td>Passager (français)             </td><td>0      </td><td>0     </td><td>0             </td><td>0                 </td><td>0      </td><td>1                    </td><td>0    </td><td>0    </td><td>0                 </td><td>0       </td><td>0       </td><td>0       </td><td>0       </td><td>0      </td><td>0     </td><td>0             </td><td>0          </td><td>0       </td><td>0           </td><td>0               </td><td>0      </td><td>0              </td><td>0     </td><td>0               </td><td>0      </td><td>0    </td><td>0                </td><td>0                 </td><td>0                  </td><td>0       </td><td>0                </td><td>0     </td><td>0      </td><td>0      </td><td>0          </td><td>0       </td><td>0              </td><td>0           </td><td>0      </td><td>0         </td><td>0        </td><td>0                 </td><td>0                        </td><td>0         </td><td>0               </td><td>0      </td><td>0              </td><td>0         </td><td>0                </td><td>0       </td><td>0                </td><td>0                </td><td>0        </td><td>0                  </td><td>0            </td><td>0        </td><td>0        </td><td>0                                    </td><td>0                   </td><td>0        </td><td>0         </td><td>0    </td><td>0                       </td><td>0                                   </td><td>0                </td><td>0               </td><td>0                  </td><td>0                   </td><td>0       </td><td>0             </td><td>0       </td><td>0        </td><td>0                     </td><td>0     </td><td>0          </td><td>0                  </td><td>0          </td><td>0      </td><td>0          </td><td>0                </td><td>0                   </td><td>0     </td><td>0        </td><td>0                  </td><td>0       </td><td>0        </td><td>0    </td><td>0          </td><td>0               </td><td>0     </td><td>0                     </td><td>0       </td><td>0     </td><td>0        </td><td>0      </td><td>0            </td><td>0                </td><td>0                 </td><td>0                      </td><td>...  </td><td>0             </td><td>0     </td><td>0       </td><td>0    </td><td>0               </td><td>0      </td><td>0        </td><td>0          </td><td>0               </td><td>0                 </td><td>0       </td><td>0         </td><td>0           </td><td>0         </td><td>0            </td><td>0       </td><td>0       </td><td>0      </td><td>0               </td><td>0      </td><td>0      </td><td>0        </td><td>0     </td><td>0                     </td><td>0                     </td><td>0        </td><td>0         </td><td>0      </td><td>0       </td><td>0     </td><td>0                  </td><td>0           </td><td>0               </td><td>0             </td><td>0        </td><td>0            </td><td>0       </td><td>0        </td><td>0              </td><td>0          </td><td>0                   </td><td>0      </td><td>0      </td><td>0        </td><td>0          </td><td>0      </td><td>0       </td><td>0       </td><td>0                      </td><td>0                  </td><td>0        </td><td>0        </td><td>0      </td><td>0              </td><td>0        </td><td>0         </td><td>0                  </td><td>0           </td><td>0                      </td><td>0                    </td><td>0            </td><td>0       </td><td>0       </td><td>0       </td><td>0       </td><td>0             </td><td>0      </td><td>0      </td><td>0            </td><td>0     </td><td>0           </td><td>0            </td><td>0       </td><td>0               </td><td>0               </td><td>0           </td><td>0       </td><td>0    </td><td>0       </td><td>0           </td><td>0         </td><td>0      </td><td>0       </td><td>0        </td><td>0                  </td><td>0        </td><td>0       </td><td>0     </td><td>0           </td><td>0          </td><td>0         </td><td>0        </td><td>0        </td><td>0                 </td><td>0              </td><td>0      </td><td>0         </td><td>0        </td><td>0                                 </td><td style=\"text-align: right;\">       0</td></tr>\n",
       "<tr><td><i style='opacity: 0.6'>3</i>  </td><td>Filet                           </td><td>0      </td><td>0     </td><td>0             </td><td>0                 </td><td>2      </td><td>0                    </td><td>0    </td><td>0    </td><td>0                 </td><td>0       </td><td>0       </td><td>0       </td><td>0       </td><td>0      </td><td>0     </td><td>0             </td><td>0          </td><td>0       </td><td>0           </td><td>0               </td><td>0      </td><td>0              </td><td>0     </td><td>0               </td><td>0      </td><td>0    </td><td>0                </td><td>0                 </td><td>0                  </td><td>0       </td><td>0                </td><td>0     </td><td>0      </td><td>0      </td><td>0          </td><td>0       </td><td>0              </td><td>0           </td><td>0      </td><td>0         </td><td>0        </td><td>0                 </td><td>0                        </td><td>0         </td><td>0               </td><td>0      </td><td>0              </td><td>0         </td><td>0                </td><td>0       </td><td>0                </td><td>0                </td><td>0        </td><td>0                  </td><td>0            </td><td>0        </td><td>0        </td><td>0                                    </td><td>0                   </td><td>0        </td><td>0         </td><td>0    </td><td>0                       </td><td>0                                   </td><td>0                </td><td>0               </td><td>0                  </td><td>0                   </td><td>0       </td><td>0             </td><td>0       </td><td>0        </td><td>0                     </td><td>0     </td><td>0          </td><td>0                  </td><td>0          </td><td>0      </td><td>0          </td><td>0                </td><td>0                   </td><td>0     </td><td>0        </td><td>0                  </td><td>0       </td><td>0        </td><td>0    </td><td>0          </td><td>0               </td><td>0     </td><td>0                     </td><td>0       </td><td>0     </td><td>0        </td><td>0      </td><td>0            </td><td>0                </td><td>0                 </td><td>0                      </td><td>...  </td><td>0             </td><td>0     </td><td>0       </td><td>0    </td><td>0               </td><td>0      </td><td>0        </td><td>0          </td><td>0               </td><td>0                 </td><td>0       </td><td>0         </td><td>0           </td><td>0         </td><td>0            </td><td>0       </td><td>0       </td><td>0      </td><td>0               </td><td>0      </td><td>0      </td><td>0        </td><td>0     </td><td>0                     </td><td>0                     </td><td>0        </td><td>0         </td><td>0      </td><td>0       </td><td>0     </td><td>0                  </td><td>0           </td><td>0               </td><td>0             </td><td>0        </td><td>0            </td><td>0       </td><td>0        </td><td>0              </td><td>0          </td><td>0                   </td><td>0      </td><td>0      </td><td>0        </td><td>0          </td><td>0      </td><td>0       </td><td>0       </td><td>0                      </td><td>0                  </td><td>0        </td><td>0        </td><td>0      </td><td>0              </td><td>0        </td><td>0         </td><td>0                  </td><td>0           </td><td>0                      </td><td>0                    </td><td>0            </td><td>0       </td><td>0       </td><td>0       </td><td>0       </td><td>0             </td><td>0      </td><td>0      </td><td>0            </td><td>0     </td><td>0           </td><td>0            </td><td>0       </td><td>0               </td><td>0               </td><td>0           </td><td>0       </td><td>0    </td><td>0       </td><td>0           </td><td>0         </td><td>0      </td><td>0       </td><td>0        </td><td>0                  </td><td>0        </td><td>0       </td><td>0     </td><td>0           </td><td>0          </td><td>0         </td><td>0        </td><td>0        </td><td>0                 </td><td>0              </td><td>0      </td><td>0         </td><td>0        </td><td>0                                 </td><td style=\"text-align: right;\">       0</td></tr>\n",
       "<tr><td><i style='opacity: 0.6'>4</i>  </td><td>Fruits frais                    </td><td>0      </td><td>0     </td><td>5             </td><td>0                 </td><td>0      </td><td>0                    </td><td>0    </td><td>0    </td><td>0                 </td><td>0       </td><td>0       </td><td>0       </td><td>0       </td><td>0      </td><td>0     </td><td>0             </td><td>0          </td><td>0       </td><td>0           </td><td>0               </td><td>0      </td><td>0              </td><td>0     </td><td>0               </td><td>0      </td><td>0    </td><td>0                </td><td>0                 </td><td>0                  </td><td>0       </td><td>0                </td><td>0     </td><td>0      </td><td>0      </td><td>0          </td><td>0       </td><td>0              </td><td>0           </td><td>0      </td><td>0         </td><td>0        </td><td>0                 </td><td>0                        </td><td>0         </td><td>0               </td><td>0      </td><td>0              </td><td>0         </td><td>0                </td><td>0       </td><td>0                </td><td>0                </td><td>0        </td><td>0                  </td><td>0            </td><td>0        </td><td>0        </td><td>0                                    </td><td>0                   </td><td>0        </td><td>0         </td><td>0    </td><td>0                       </td><td>0                                   </td><td>0                </td><td>0               </td><td>0                  </td><td>0                   </td><td>0       </td><td>0             </td><td>0       </td><td>0        </td><td>0                     </td><td>0     </td><td>0          </td><td>0                  </td><td>0          </td><td>0      </td><td>0          </td><td>0                </td><td>0                   </td><td>0     </td><td>0        </td><td>0                  </td><td>0       </td><td>0        </td><td>0    </td><td>0          </td><td>0               </td><td>0     </td><td>0                     </td><td>0       </td><td>0     </td><td>0        </td><td>0      </td><td>0            </td><td>0                </td><td>0                 </td><td>0                      </td><td>...  </td><td>0             </td><td>0     </td><td>0       </td><td>0    </td><td>0               </td><td>0      </td><td>0        </td><td>0          </td><td>0               </td><td>0                 </td><td>0       </td><td>0         </td><td>0           </td><td>0         </td><td>0            </td><td>0       </td><td>0       </td><td>0      </td><td>0               </td><td>0      </td><td>0      </td><td>0        </td><td>0     </td><td>0                     </td><td>0                     </td><td>0        </td><td>0         </td><td>0      </td><td>0       </td><td>0     </td><td>0                  </td><td>0           </td><td>0               </td><td>0             </td><td>0        </td><td>0            </td><td>0       </td><td>0        </td><td>0              </td><td>0          </td><td>0                   </td><td>0      </td><td>0      </td><td>0        </td><td>0          </td><td>0      </td><td>0       </td><td>0       </td><td>0                      </td><td>0                  </td><td>0        </td><td>0        </td><td>0      </td><td>0              </td><td>0        </td><td>0         </td><td>0                  </td><td>0           </td><td>0                      </td><td>0                    </td><td>0            </td><td>0       </td><td>0       </td><td>0       </td><td>0       </td><td>0             </td><td>0      </td><td>0      </td><td>0            </td><td>0     </td><td>0           </td><td>0            </td><td>0       </td><td>0               </td><td>0               </td><td>0           </td><td>0       </td><td>0    </td><td>0       </td><td>0           </td><td>0         </td><td>0      </td><td>0       </td><td>0        </td><td>0                  </td><td>0        </td><td>0       </td><td>0     </td><td>0           </td><td>0          </td><td>0         </td><td>0        </td><td>0        </td><td>0                 </td><td>0              </td><td>0      </td><td>0         </td><td>0        </td><td>0                                 </td><td style=\"text-align: right;\">       0</td></tr>\n",
       "<tr><td>...                            </td><td>...                             </td><td>...    </td><td>...   </td><td>...           </td><td>...               </td><td>...    </td><td>...                  </td><td>...  </td><td>...  </td><td>...               </td><td>...     </td><td>...     </td><td>...     </td><td>...     </td><td>...    </td><td>...   </td><td>...           </td><td>...        </td><td>...     </td><td>...         </td><td>...             </td><td>...    </td><td>...            </td><td>...   </td><td>...             </td><td>...    </td><td>...  </td><td>...              </td><td>...               </td><td>...                </td><td>...     </td><td>...              </td><td>...   </td><td>...    </td><td>...    </td><td>...        </td><td>...     </td><td>...            </td><td>...         </td><td>...    </td><td>...       </td><td>...      </td><td>...               </td><td>...                      </td><td>...       </td><td>...             </td><td>...    </td><td>...            </td><td>...       </td><td>...              </td><td>...     </td><td>...              </td><td>...              </td><td>...      </td><td>...                </td><td>...          </td><td>...      </td><td>...      </td><td>...                                  </td><td>...                 </td><td>...      </td><td>...       </td><td>...  </td><td>...                     </td><td>...                                 </td><td>...              </td><td>...             </td><td>...                </td><td>...                 </td><td>...     </td><td>...           </td><td>...     </td><td>...      </td><td>...                   </td><td>...   </td><td>...        </td><td>...                </td><td>...        </td><td>...    </td><td>...        </td><td>...              </td><td>...                 </td><td>...   </td><td>...      </td><td>...                </td><td>...     </td><td>...      </td><td>...  </td><td>...        </td><td>...             </td><td>...   </td><td>...                   </td><td>...     </td><td>...   </td><td>...      </td><td>...    </td><td>...          </td><td>...              </td><td>...               </td><td>...                    </td><td>...  </td><td>...           </td><td>...   </td><td>...     </td><td>...  </td><td>...             </td><td>...    </td><td>...      </td><td>...        </td><td>...             </td><td>...               </td><td>...     </td><td>...       </td><td>...         </td><td>...       </td><td>...          </td><td>...     </td><td>...     </td><td>...    </td><td>...             </td><td>...    </td><td>...    </td><td>...      </td><td>...   </td><td>...                   </td><td>...                   </td><td>...      </td><td>...       </td><td>...    </td><td>...     </td><td>...   </td><td>...                </td><td>...         </td><td>...             </td><td>...           </td><td>...      </td><td>...          </td><td>...     </td><td>...      </td><td>...            </td><td>...        </td><td>...                 </td><td>...    </td><td>...    </td><td>...      </td><td>...        </td><td>...    </td><td>...     </td><td>...     </td><td>...                    </td><td>...                </td><td>...      </td><td>...      </td><td>...    </td><td>...            </td><td>...      </td><td>...       </td><td>...                </td><td>...         </td><td>...                    </td><td>...                  </td><td>...          </td><td>...     </td><td>...     </td><td>...     </td><td>...     </td><td>...           </td><td>...    </td><td>...    </td><td>...          </td><td>...   </td><td>...         </td><td>...          </td><td>...     </td><td>...             </td><td>...             </td><td>...         </td><td>...     </td><td>...  </td><td>...     </td><td>...         </td><td>...       </td><td>...    </td><td>...     </td><td>...      </td><td>...                </td><td>...      </td><td>...     </td><td>...   </td><td>...         </td><td>...        </td><td>...       </td><td>...      </td><td>...      </td><td>...               </td><td>...            </td><td>...    </td><td>...       </td><td>...      </td><td>...                               </td><td style=\"text-align: right;\">       0</td></tr>\n",
       "<tr><td><i style='opacity: 0.6'>245</i></td><td>Soude                           </td><td>0      </td><td>0     </td><td>0             </td><td>0                 </td><td>0      </td><td>0                    </td><td>0    </td><td>0    </td><td>0                 </td><td>0       </td><td>0       </td><td>0       </td><td>0       </td><td>0      </td><td>0     </td><td>0             </td><td>0          </td><td>0       </td><td>0           </td><td>0               </td><td>0      </td><td>0              </td><td>0     </td><td>0               </td><td>0      </td><td>0    </td><td>0                </td><td>0                 </td><td>0                  </td><td>0       </td><td>0                </td><td>0     </td><td>0      </td><td>0      </td><td>0          </td><td>0       </td><td>0              </td><td>0           </td><td>0      </td><td>0         </td><td>0        </td><td>0                 </td><td>0                        </td><td>0         </td><td>0               </td><td>0      </td><td>0              </td><td>0         </td><td>0                </td><td>0       </td><td>0                </td><td>0                </td><td>0        </td><td>0                  </td><td>0            </td><td>0        </td><td>0        </td><td>0                                    </td><td>0                   </td><td>0        </td><td>0         </td><td>0    </td><td>0                       </td><td>0                                   </td><td>0                </td><td>0               </td><td>0                  </td><td>0                   </td><td>0       </td><td>0             </td><td>0       </td><td>0        </td><td>0                     </td><td>0     </td><td>0          </td><td>0                  </td><td>0          </td><td>0      </td><td>0          </td><td>0                </td><td>0                   </td><td>0     </td><td>0        </td><td>0                  </td><td>0       </td><td>0        </td><td>0    </td><td>0          </td><td>0               </td><td>0     </td><td>0                     </td><td>0       </td><td>0     </td><td>0        </td><td>0      </td><td>0            </td><td>0                </td><td>0                 </td><td>0                      </td><td>...  </td><td>0             </td><td>0     </td><td>0       </td><td>0    </td><td>0               </td><td>0      </td><td>0        </td><td>0          </td><td>0               </td><td>0                 </td><td>0       </td><td>0         </td><td>0           </td><td>0         </td><td>0            </td><td>0       </td><td>0       </td><td>0      </td><td>0               </td><td>0      </td><td>0      </td><td>0        </td><td>0     </td><td>0                     </td><td>0                     </td><td>0        </td><td>0         </td><td>0      </td><td>0       </td><td>0     </td><td>0                  </td><td>0           </td><td>0               </td><td>0             </td><td>0        </td><td>0            </td><td>0       </td><td>0        </td><td>0              </td><td>0          </td><td>0                   </td><td>0      </td><td>0      </td><td>0        </td><td>0          </td><td>0      </td><td>0       </td><td>0       </td><td>0                      </td><td>0                  </td><td>0        </td><td>0        </td><td>0      </td><td>0              </td><td>0        </td><td>0         </td><td>0                  </td><td>0           </td><td>0                      </td><td>0                    </td><td>0            </td><td>0       </td><td>0       </td><td>0       </td><td>0       </td><td>0             </td><td>0      </td><td>0      </td><td>0            </td><td>0     </td><td>0           </td><td>0            </td><td>0       </td><td>0               </td><td>0               </td><td>0           </td><td>0       </td><td>0    </td><td>0       </td><td>0           </td><td>0         </td><td>0      </td><td>0       </td><td>0        </td><td>0                  </td><td>0        </td><td>0       </td><td>0     </td><td>0           </td><td>0          </td><td>0         </td><td>0        </td><td>0        </td><td>0                 </td><td>0              </td><td>103    </td><td>0         </td><td>0        </td><td>0                                 </td><td style=\"text-align: right;\">       0</td></tr>\n",
       "<tr><td><i style='opacity: 0.6'>246</i></td><td>Semoule                         </td><td>0      </td><td>0     </td><td>0             </td><td>0                 </td><td>0      </td><td>0                    </td><td>0    </td><td>0    </td><td>0                 </td><td>0       </td><td>0       </td><td>0       </td><td>0       </td><td>0      </td><td>0     </td><td>0             </td><td>0          </td><td>0       </td><td>0           </td><td>0               </td><td>0      </td><td>0              </td><td>0     </td><td>0               </td><td>0      </td><td>0    </td><td>0                </td><td>0                 </td><td>0                  </td><td>0       </td><td>0                </td><td>0     </td><td>0      </td><td>0      </td><td>0          </td><td>0       </td><td>0              </td><td>0           </td><td>0      </td><td>0         </td><td>0        </td><td>0                 </td><td>0                        </td><td>0         </td><td>0               </td><td>0      </td><td>0              </td><td>0         </td><td>0                </td><td>0       </td><td>0                </td><td>0                </td><td>0        </td><td>0                  </td><td>0            </td><td>0        </td><td>0        </td><td>0                                    </td><td>0                   </td><td>0        </td><td>0         </td><td>0    </td><td>0                       </td><td>0                                   </td><td>0                </td><td>0               </td><td>0                  </td><td>0                   </td><td>0       </td><td>0             </td><td>0       </td><td>0        </td><td>0                     </td><td>0     </td><td>0          </td><td>0                  </td><td>0          </td><td>0      </td><td>0          </td><td>0                </td><td>0                   </td><td>0     </td><td>0        </td><td>0                  </td><td>0       </td><td>0        </td><td>0    </td><td>0          </td><td>0               </td><td>0     </td><td>0                     </td><td>0       </td><td>0     </td><td>0        </td><td>0      </td><td>0            </td><td>0                </td><td>0                 </td><td>0                      </td><td>...  </td><td>0             </td><td>0     </td><td>0       </td><td>0    </td><td>0               </td><td>0      </td><td>0        </td><td>0          </td><td>0               </td><td>0                 </td><td>0       </td><td>0         </td><td>0           </td><td>0         </td><td>0            </td><td>0       </td><td>0       </td><td>0      </td><td>0               </td><td>0      </td><td>0      </td><td>0        </td><td>0     </td><td>0                     </td><td>0                     </td><td>0        </td><td>0         </td><td>0      </td><td>0       </td><td>0     </td><td>0                  </td><td>0           </td><td>0               </td><td>0             </td><td>0        </td><td>0            </td><td>0       </td><td>0        </td><td>0              </td><td>0          </td><td>0                   </td><td>0      </td><td>0      </td><td>0        </td><td>0          </td><td>0      </td><td>0       </td><td>0       </td><td>0                      </td><td>0                  </td><td>0        </td><td>0        </td><td>0      </td><td>0              </td><td>0        </td><td>0         </td><td>0                  </td><td>0           </td><td>0                      </td><td>0                    </td><td>0            </td><td>0       </td><td>0       </td><td>0       </td><td>0       </td><td>0             </td><td>0      </td><td>0      </td><td>0            </td><td>0     </td><td>0           </td><td>0            </td><td>0       </td><td>0               </td><td>0               </td><td>0           </td><td>0       </td><td>0    </td><td>0       </td><td>0           </td><td>0         </td><td>0      </td><td>0       </td><td>0        </td><td>0                  </td><td>0        </td><td>0       </td><td>0     </td><td>0           </td><td>0          </td><td>0         </td><td>0        </td><td>0        </td><td>0                 </td><td>0              </td><td>0      </td><td>0         </td><td>1        </td><td>0                                 </td><td style=\"text-align: right;\">       0</td></tr>\n",
       "<tr><td><i style='opacity: 0.6'>247</i></td><td>Moutarde                        </td><td>0      </td><td>0     </td><td>0             </td><td>0                 </td><td>0      </td><td>0                    </td><td>0    </td><td>0    </td><td>0                 </td><td>0       </td><td>0       </td><td>0       </td><td>0       </td><td>0      </td><td>0     </td><td>0             </td><td>0          </td><td>0       </td><td>0           </td><td>0               </td><td>0      </td><td>0              </td><td>0     </td><td>0               </td><td>0      </td><td>0    </td><td>0                </td><td>0                 </td><td>0                  </td><td>0       </td><td>0                </td><td>0     </td><td>0      </td><td>0      </td><td>0          </td><td>0       </td><td>0              </td><td>0           </td><td>0      </td><td>0         </td><td>0        </td><td>0                 </td><td>0                        </td><td>0         </td><td>0               </td><td>0      </td><td>0              </td><td>0         </td><td>0                </td><td>0       </td><td>0                </td><td>0                </td><td>0        </td><td>0                  </td><td>0            </td><td>0        </td><td>0        </td><td>0                                    </td><td>0                   </td><td>0        </td><td>0         </td><td>0    </td><td>0                       </td><td>0                                   </td><td>0                </td><td>0               </td><td>0                  </td><td>0                   </td><td>0       </td><td>0             </td><td>0       </td><td>0        </td><td>0                     </td><td>0     </td><td>0          </td><td>0                  </td><td>0          </td><td>0      </td><td>0          </td><td>0                </td><td>0                   </td><td>0     </td><td>0        </td><td>0                  </td><td>0       </td><td>0        </td><td>0    </td><td>0          </td><td>0               </td><td>0     </td><td>0                     </td><td>0       </td><td>0     </td><td>0        </td><td>0      </td><td>0            </td><td>0                </td><td>0                 </td><td>0                      </td><td>...  </td><td>0             </td><td>0     </td><td>0       </td><td>0    </td><td>0               </td><td>0      </td><td>0        </td><td>0          </td><td>0               </td><td>0                 </td><td>0       </td><td>0         </td><td>0           </td><td>0         </td><td>0            </td><td>0       </td><td>0       </td><td>0      </td><td>0               </td><td>0      </td><td>0      </td><td>0        </td><td>0     </td><td>0                     </td><td>0                     </td><td>0        </td><td>0         </td><td>0      </td><td>0       </td><td>0     </td><td>0                  </td><td>0           </td><td>0               </td><td>0             </td><td>0        </td><td>0            </td><td>0       </td><td>0        </td><td>0              </td><td>0          </td><td>0                   </td><td>0      </td><td>0      </td><td>0        </td><td>0          </td><td>0      </td><td>0       </td><td>0       </td><td>0                      </td><td>0                  </td><td>0        </td><td>0        </td><td>0      </td><td>0              </td><td>0        </td><td>0         </td><td>0                  </td><td>0           </td><td>0                      </td><td>0                    </td><td>0            </td><td>0       </td><td>0       </td><td>0       </td><td>0       </td><td>0             </td><td>0      </td><td>0      </td><td>0            </td><td>0     </td><td>0           </td><td>0            </td><td>0       </td><td>0               </td><td>0               </td><td>0           </td><td>0       </td><td>0    </td><td>0       </td><td>0           </td><td>0         </td><td>0      </td><td>0       </td><td>0        </td><td>0                  </td><td>0        </td><td>0       </td><td>0     </td><td>0           </td><td>0          </td><td>0         </td><td>0        </td><td>0        </td><td>0                 </td><td>0              </td><td>0      </td><td>1         </td><td>0        </td><td>0                                 </td><td style=\"text-align: right;\">       0</td></tr>\n",
       "<tr><td><i style='opacity: 0.6'>248</i></td><td>Diverses marchandises autorisées</td><td>0      </td><td>0     </td><td>0             </td><td>0                 </td><td>0      </td><td>0                    </td><td>0    </td><td>0    </td><td>0                 </td><td>0       </td><td>0       </td><td>0       </td><td>0       </td><td>0      </td><td>0     </td><td>0             </td><td>0          </td><td>0       </td><td>0           </td><td>0               </td><td>0      </td><td>0              </td><td>0     </td><td>0               </td><td>0      </td><td>0    </td><td>0                </td><td>0                 </td><td>0                  </td><td>0       </td><td>0                </td><td>0     </td><td>0      </td><td>0      </td><td>0          </td><td>0       </td><td>0              </td><td>0           </td><td>0      </td><td>0         </td><td>0        </td><td>0                 </td><td>0                        </td><td>0         </td><td>0               </td><td>0      </td><td>0              </td><td>0         </td><td>0                </td><td>0       </td><td>0                </td><td>0                </td><td>0        </td><td>0                  </td><td>0            </td><td>0        </td><td>0        </td><td>0                                    </td><td>0                   </td><td>0        </td><td>0         </td><td>0    </td><td>0                       </td><td>0                                   </td><td>0                </td><td>0               </td><td>0                  </td><td>0                   </td><td>0       </td><td>0             </td><td>0       </td><td>0        </td><td>0                     </td><td>0     </td><td>0          </td><td>0                  </td><td>0          </td><td>0      </td><td>0          </td><td>0                </td><td>0                   </td><td>0     </td><td>0        </td><td>0                  </td><td>0       </td><td>0        </td><td>0    </td><td>0          </td><td>0               </td><td>0     </td><td>0                     </td><td>0       </td><td>0     </td><td>0        </td><td>0      </td><td>0            </td><td>0                </td><td>0                 </td><td>0                      </td><td>...  </td><td>0             </td><td>0     </td><td>0       </td><td>0    </td><td>0               </td><td>0      </td><td>0        </td><td>0          </td><td>0               </td><td>0                 </td><td>0       </td><td>0         </td><td>0           </td><td>0         </td><td>0            </td><td>0       </td><td>0       </td><td>0      </td><td>0               </td><td>0      </td><td>0      </td><td>0        </td><td>0     </td><td>0                     </td><td>0                     </td><td>0        </td><td>0         </td><td>0      </td><td>0       </td><td>0     </td><td>0                  </td><td>0           </td><td>0               </td><td>0             </td><td>0        </td><td>0            </td><td>0       </td><td>0        </td><td>0              </td><td>0          </td><td>0                   </td><td>0      </td><td>0      </td><td>0        </td><td>0          </td><td>0      </td><td>0       </td><td>0       </td><td>0                      </td><td>0                  </td><td>0        </td><td>0        </td><td>0      </td><td>0              </td><td>0        </td><td>0         </td><td>0                  </td><td>0           </td><td>0                      </td><td>0                    </td><td>0            </td><td>0       </td><td>0       </td><td>0       </td><td>0       </td><td>0             </td><td>0      </td><td>0      </td><td>0            </td><td>0     </td><td>0           </td><td>0            </td><td>0       </td><td>0               </td><td>0               </td><td>0           </td><td>0       </td><td>0    </td><td>0       </td><td>0           </td><td>0         </td><td>0      </td><td>0       </td><td>0        </td><td>0                  </td><td>0        </td><td>0       </td><td>0     </td><td>0           </td><td>0          </td><td>0         </td><td>0        </td><td>0        </td><td>0                 </td><td>0              </td><td>0      </td><td>0         </td><td>0        </td><td>7                                 </td><td style=\"text-align: right;\">       3</td></tr>\n",
       "<tr><td><i style='opacity: 0.6'>249</i></td><td>Etoffe                          </td><td>0      </td><td>0     </td><td>0             </td><td>0                 </td><td>0      </td><td>0                    </td><td>0    </td><td>0    </td><td>0                 </td><td>0       </td><td>0       </td><td>0       </td><td>0       </td><td>0      </td><td>0     </td><td>0             </td><td>0          </td><td>0       </td><td>0           </td><td>0               </td><td>0      </td><td>0              </td><td>0     </td><td>0               </td><td>0      </td><td>0    </td><td>0                </td><td>0                 </td><td>0                  </td><td>0       </td><td>0                </td><td>0     </td><td>0      </td><td>0      </td><td>0          </td><td>0       </td><td>0              </td><td>0           </td><td>0      </td><td>0         </td><td>0        </td><td>0                 </td><td>0                        </td><td>0         </td><td>0               </td><td>0      </td><td>0              </td><td>0         </td><td>0                </td><td>0       </td><td>0                </td><td>0                </td><td>0        </td><td>0                  </td><td>0            </td><td>0        </td><td>0        </td><td>0                                    </td><td>0                   </td><td>0        </td><td>0         </td><td>0    </td><td>0                       </td><td>0                                   </td><td>0                </td><td>0               </td><td>0                  </td><td>0                   </td><td>0       </td><td>0             </td><td>0       </td><td>0        </td><td>0                     </td><td>0     </td><td>0          </td><td>0                  </td><td>0          </td><td>0      </td><td>0          </td><td>0                </td><td>0                   </td><td>0     </td><td>0        </td><td>0                  </td><td>0       </td><td>0        </td><td>0    </td><td>0          </td><td>0               </td><td>0     </td><td>0                     </td><td>0       </td><td>0     </td><td>0        </td><td>0      </td><td>0            </td><td>0                </td><td>0                 </td><td>0                      </td><td>...  </td><td>0             </td><td>0     </td><td>0       </td><td>0    </td><td>0               </td><td>0      </td><td>0        </td><td>0          </td><td>0               </td><td>0                 </td><td>0       </td><td>0         </td><td>0           </td><td>0         </td><td>0            </td><td>0       </td><td>0       </td><td>0      </td><td>0               </td><td>0      </td><td>0      </td><td>0        </td><td>0     </td><td>0                     </td><td>0                     </td><td>0        </td><td>0         </td><td>0      </td><td>0       </td><td>0     </td><td>0                  </td><td>0           </td><td>0               </td><td>0             </td><td>0        </td><td>0            </td><td>0       </td><td>0        </td><td>0              </td><td>0          </td><td>0                   </td><td>0      </td><td>0      </td><td>0        </td><td>0          </td><td>0      </td><td>0       </td><td>0       </td><td>0                      </td><td>0                  </td><td>0        </td><td>0        </td><td>0      </td><td>0              </td><td>0        </td><td>0         </td><td>0                  </td><td>0           </td><td>0                      </td><td>0                    </td><td>0            </td><td>0       </td><td>0       </td><td>0       </td><td>0       </td><td>0             </td><td>0      </td><td>0      </td><td>0            </td><td>0     </td><td>0           </td><td>0            </td><td>0       </td><td>0               </td><td>0               </td><td>0           </td><td>0       </td><td>0    </td><td>0       </td><td>0           </td><td>0         </td><td>0      </td><td>0       </td><td>0        </td><td>0                  </td><td>0        </td><td>0       </td><td>0     </td><td>0           </td><td>0          </td><td>0         </td><td>0        </td><td>0        </td><td>0                 </td><td>0              </td><td>0      </td><td>0         </td><td>0        </td><td>0                                 </td><td style=\"text-align: right;\">        </td></tr>\n",
       "</tbody>\n",
       "</table>"
      ],
      "text/plain": [
       "#    commodity_standardized_fr         Agrès    None    Fruits frais    Cornes de mouton    Filet    Passager (français)    Sel    Blé    Cendre de varech    Seigle    Effets    Millet    Hareng    Savon    Cuir    Pois chiches    Amarinage    Poudre    Boeuf salé    Huile de morue    Sapin    Cuivre (pain)    Lest    Pomme de terre    Pomme    Eau    Réglisse (bois)    Effets de maison    Alpiste, escayole    Prunes    Sardine préssée    Pois    Huile    Liège    Maquereau    Amidon    Graine de lin    Brai, poix    Cidre    Campeche    Ardoise    Bois de teinture    Grignons, marc d' olive    Cabotage    Cuivre (vieux)    Boeuf    Bois à brûler    Cannelle    Pêche au hareng    Ecorce    Vin (bouteille)    Filets de pêche    Fromage    Hareng en saumure    Dame-jeanne    Charbon    Oignons    Fanon de baleine, barbes de baleine    Pêche à la sardine    Anchois    Haricots    Thé    Articles de parfumerie    Poudre d' artillerie, poudre à feu    Tabac (feuille)    Poudre à canon    Planches de sapin    Effets de naufrage    Acajou    Café Bourbon    Boulet    Matures    Denrées des colonies    Clou    Moussline    Cuivre (planches)    Droguerie    Verre    Feuillard    Pavés de pierre    Peaux, pelleteries    Cire    Potasse    Huile de cachalot    Fruits    Goudron    Pin    Vinaterie    Viande de pate    Miel    Bois de construction    Chargé    Orge    Amandes    Plomb    Morue sèche    Effets de pêche    Pêche aux moules    Verdet / Vert de gris    ...    Vin espagnol    Lège    Jambon    Son    Filets (vieux)    Morue    Biscuit    Fer blanc    Jarres (vides)    Charbon de terre    Vesces    Mélasses    Raisin sec    Genièvre    Café (Moka)    Tourbe    Citron    Toile    Tabac (poudre)    Sucre    Terre    Sardine    Café    Térébenthine (huile)    Oranges portuguaises    Chanvre    Vinaigre    Bière    Cuivre    Lard    Effets militaires    Vin muscat    Pierre à chaux    Poisson salé    Douelle    Hareng saur    Beurre    Merrain    Sardine salée    Sassafras    Pêche au maquereau    Chaux    Douve    Graines    Vin blanc    Laine    Panier    Marbre    Croisière des douanes    Chapeau de paille    Planche    Froment    Fèves    Peau de boeuf    Poisson    Réglisse    Pêche aux huitres    Chataignes    Eau de vie d' Hendaye    Divers, assortiment    Morue verte    Avoine    Saumon    Hardes    Fumier    Fer en barre    Figue    Tabac    Blé d' Inde    Bois    Eau de vie    Poisson sec    Plâtre    Terre de Broue    Thé de l' Inde    Bouteilles    Grains    Riz    Etoupe    Provisions    Passager    Cacao    Fagots    Souffre    Bois de chauffage    Cendres    Moules    Drap    Porcelaine    Trafiquer    Fourrage    Oranges    Huitres    Plombs de chasse    Vin de Madère    Soude    Moutarde    Semoule    Diverses marchandises autorisées      Etoffe\n",
       "0    Agrès                             2        0       0               0                   0        0                      0      0      0                   0         0         0         0         0        0       0               0            0         0             0                 0        0                0       0                 0        0      0                  0                   0                    0         0                  0       0        0        0            0         0                0             0        0           0          0                   0                          0           0                 0        0                0           0                  0         0                  0                  0          0                    0              0          0          0                                      0                     0          0           0      0                         0                                     0                  0                 0                    0                     0         0               0         0          0                       0       0            0                    0            0        0            0                  0                     0       0          0                    0         0          0      0            0                 0       0                       0         0       0          0        0              0                  0                   0                        ...    0               0       0         0      0                 0        0          0            0                 0                   0         0           0             0           0              0         0         0        0                 0        0        0          0       0                       0                       0          0           0        0         0       0                    0             0                 0               0          0              0         0          0                0            0                     0        0        0          0            0        0         0         0                        0                    0          0          0        0                0          0           0                    0             0                        0                      0              0         0         0         0         0               0        0        0              0       0             0              0         0                 0                 0             0         0      0         0             0           0        0         0          0                    0          0         0       0             0            0           0          0          0                   0                0        0           0          0                                          0\n",
       "1    --                                0        0       0               0                   0        0                      0      0      0                   0         0         0         0         0        0       0               0            0         0             0                 0        0                0       0                 0        0      0                  0                   0                    0         0                  0       0        0        0            0         0                0             0        0           0          0                   0                          0           0                 0        0                0           0                  0         0                  0                  0          0                    0              0          0          0                                      0                     0          0           0      0                         0                                     0                  0                 0                    0                     0         0               0         0          0                       0       0            0                    0            0        0            0                  0                     0       0          0                    0         0          0      0            0                 0       0                       0         0       0          0        0              0                  0                   0                        ...    0               0       0         0      0                 0        0          0            0                 0                   0         0           0             0           0              0         0         0        0                 0        0        0          0       0                       0                       0          0           0        0         0       0                    0             0                 0               0          0              0         0          0                0            0                     0        0        0          0            0        0         0         0                        0                    0          0          0        0                0          0           0                    0             0                        0                      0              0         0         0         0         0               0        0        0              0       0             0              0         0                 0                 0             0         0      0         0             0           0        0         0          0                    0          0         0       0             0            0           0          0          0                   0                0        0           0          0                                          0\n",
       "2    Passager (français)               0        0       0               0                   0        1                      0      0      0                   0         0         0         0         0        0       0               0            0         0             0                 0        0                0       0                 0        0      0                  0                   0                    0         0                  0       0        0        0            0         0                0             0        0           0          0                   0                          0           0                 0        0                0           0                  0         0                  0                  0          0                    0              0          0          0                                      0                     0          0           0      0                         0                                     0                  0                 0                    0                     0         0               0         0          0                       0       0            0                    0            0        0            0                  0                     0       0          0                    0         0          0      0            0                 0       0                       0         0       0          0        0              0                  0                   0                        ...    0               0       0         0      0                 0        0          0            0                 0                   0         0           0             0           0              0         0         0        0                 0        0        0          0       0                       0                       0          0           0        0         0       0                    0             0                 0               0          0              0         0          0                0            0                     0        0        0          0            0        0         0         0                        0                    0          0          0        0                0          0           0                    0             0                        0                      0              0         0         0         0         0               0        0        0              0       0             0              0         0                 0                 0             0         0      0         0             0           0        0         0          0                    0          0         0       0             0            0           0          0          0                   0                0        0           0          0                                          0\n",
       "3    Filet                             0        0       0               0                   2        0                      0      0      0                   0         0         0         0         0        0       0               0            0         0             0                 0        0                0       0                 0        0      0                  0                   0                    0         0                  0       0        0        0            0         0                0             0        0           0          0                   0                          0           0                 0        0                0           0                  0         0                  0                  0          0                    0              0          0          0                                      0                     0          0           0      0                         0                                     0                  0                 0                    0                     0         0               0         0          0                       0       0            0                    0            0        0            0                  0                     0       0          0                    0         0          0      0            0                 0       0                       0         0       0          0        0              0                  0                   0                        ...    0               0       0         0      0                 0        0          0            0                 0                   0         0           0             0           0              0         0         0        0                 0        0        0          0       0                       0                       0          0           0        0         0       0                    0             0                 0               0          0              0         0          0                0            0                     0        0        0          0            0        0         0         0                        0                    0          0          0        0                0          0           0                    0             0                        0                      0              0         0         0         0         0               0        0        0              0       0             0              0         0                 0                 0             0         0      0         0             0           0        0         0          0                    0          0         0       0             0            0           0          0          0                   0                0        0           0          0                                          0\n",
       "4    Fruits frais                      0        0       5               0                   0        0                      0      0      0                   0         0         0         0         0        0       0               0            0         0             0                 0        0                0       0                 0        0      0                  0                   0                    0         0                  0       0        0        0            0         0                0             0        0           0          0                   0                          0           0                 0        0                0           0                  0         0                  0                  0          0                    0              0          0          0                                      0                     0          0           0      0                         0                                     0                  0                 0                    0                     0         0               0         0          0                       0       0            0                    0            0        0            0                  0                     0       0          0                    0         0          0      0            0                 0       0                       0         0       0          0        0              0                  0                   0                        ...    0               0       0         0      0                 0        0          0            0                 0                   0         0           0             0           0              0         0         0        0                 0        0        0          0       0                       0                       0          0           0        0         0       0                    0             0                 0               0          0              0         0          0                0            0                     0        0        0          0            0        0         0         0                        0                    0          0          0        0                0          0           0                    0             0                        0                      0              0         0         0         0         0               0        0        0              0       0             0              0         0                 0                 0             0         0      0         0             0           0        0         0          0                    0          0         0       0             0            0           0          0          0                   0                0        0           0          0                                          0\n",
       "...  ...                               ...      ...     ...             ...                 ...      ...                    ...    ...    ...                 ...       ...       ...       ...       ...      ...     ...             ...          ...       ...           ...               ...      ...              ...     ...               ...      ...    ...                ...                 ...                  ...       ...                ...     ...      ...      ...          ...       ...              ...           ...      ...         ...        ...                 ...                        ...         ...               ...      ...              ...         ...                ...       ...                ...                ...        ...                  ...            ...        ...        ...                                    ...                   ...        ...         ...    ...                       ...                                   ...                ...               ...                  ...                   ...       ...             ...       ...        ...                     ...     ...          ...                  ...          ...      ...          ...                ...                   ...     ...        ...                  ...       ...        ...    ...          ...               ...     ...                     ...       ...     ...        ...      ...            ...                ...                 ...                      ...    ...             ...     ...       ...    ...               ...      ...        ...          ...               ...                 ...       ...         ...           ...         ...            ...       ...       ...      ...               ...      ...      ...        ...     ...                     ...                     ...        ...         ...      ...       ...     ...                  ...           ...               ...             ...        ...            ...       ...        ...              ...          ...                   ...      ...      ...        ...          ...      ...       ...       ...                      ...                  ...        ...        ...      ...              ...        ...         ...                  ...           ...                      ...                    ...            ...       ...       ...       ...       ...             ...      ...      ...            ...     ...           ...            ...       ...               ...               ...           ...       ...    ...       ...           ...         ...      ...       ...        ...                  ...        ...       ...     ...           ...          ...         ...        ...        ...                 ...              ...      ...         ...        ...                                        0\n",
       "245  Soude                             0        0       0               0                   0        0                      0      0      0                   0         0         0         0         0        0       0               0            0         0             0                 0        0                0       0                 0        0      0                  0                   0                    0         0                  0       0        0        0            0         0                0             0        0           0          0                   0                          0           0                 0        0                0           0                  0         0                  0                  0          0                    0              0          0          0                                      0                     0          0           0      0                         0                                     0                  0                 0                    0                     0         0               0         0          0                       0       0            0                    0            0        0            0                  0                     0       0          0                    0         0          0      0            0                 0       0                       0         0       0          0        0              0                  0                   0                        ...    0               0       0         0      0                 0        0          0            0                 0                   0         0           0             0           0              0         0         0        0                 0        0        0          0       0                       0                       0          0           0        0         0       0                    0             0                 0               0          0              0         0          0                0            0                     0        0        0          0            0        0         0         0                        0                    0          0          0        0                0          0           0                    0             0                        0                      0              0         0         0         0         0               0        0        0              0       0             0              0         0                 0                 0             0         0      0         0             0           0        0         0          0                    0          0         0       0             0            0           0          0          0                   0                103      0           0          0                                          0\n",
       "246  Semoule                           0        0       0               0                   0        0                      0      0      0                   0         0         0         0         0        0       0               0            0         0             0                 0        0                0       0                 0        0      0                  0                   0                    0         0                  0       0        0        0            0         0                0             0        0           0          0                   0                          0           0                 0        0                0           0                  0         0                  0                  0          0                    0              0          0          0                                      0                     0          0           0      0                         0                                     0                  0                 0                    0                     0         0               0         0          0                       0       0            0                    0            0        0            0                  0                     0       0          0                    0         0          0      0            0                 0       0                       0         0       0          0        0              0                  0                   0                        ...    0               0       0         0      0                 0        0          0            0                 0                   0         0           0             0           0              0         0         0        0                 0        0        0          0       0                       0                       0          0           0        0         0       0                    0             0                 0               0          0              0         0          0                0            0                     0        0        0          0            0        0         0         0                        0                    0          0          0        0                0          0           0                    0             0                        0                      0              0         0         0         0         0               0        0        0              0       0             0              0         0                 0                 0             0         0      0         0             0           0        0         0          0                    0          0         0       0             0            0           0          0          0                   0                0        0           1          0                                          0\n",
       "247  Moutarde                          0        0       0               0                   0        0                      0      0      0                   0         0         0         0         0        0       0               0            0         0             0                 0        0                0       0                 0        0      0                  0                   0                    0         0                  0       0        0        0            0         0                0             0        0           0          0                   0                          0           0                 0        0                0           0                  0         0                  0                  0          0                    0              0          0          0                                      0                     0          0           0      0                         0                                     0                  0                 0                    0                     0         0               0         0          0                       0       0            0                    0            0        0            0                  0                     0       0          0                    0         0          0      0            0                 0       0                       0         0       0          0        0              0                  0                   0                        ...    0               0       0         0      0                 0        0          0            0                 0                   0         0           0             0           0              0         0         0        0                 0        0        0          0       0                       0                       0          0           0        0         0       0                    0             0                 0               0          0              0         0          0                0            0                     0        0        0          0            0        0         0         0                        0                    0          0          0        0                0          0           0                    0             0                        0                      0              0         0         0         0         0               0        0        0              0       0             0              0         0                 0                 0             0         0      0         0             0           0        0         0          0                    0          0         0       0             0            0           0          0          0                   0                0        1           0          0                                          0\n",
       "248  Diverses marchandises autorisées  0        0       0               0                   0        0                      0      0      0                   0         0         0         0         0        0       0               0            0         0             0                 0        0                0       0                 0        0      0                  0                   0                    0         0                  0       0        0        0            0         0                0             0        0           0          0                   0                          0           0                 0        0                0           0                  0         0                  0                  0          0                    0              0          0          0                                      0                     0          0           0      0                         0                                     0                  0                 0                    0                     0         0               0         0          0                       0       0            0                    0            0        0            0                  0                     0       0          0                    0         0          0      0            0                 0       0                       0         0       0          0        0              0                  0                   0                        ...    0               0       0         0      0                 0        0          0            0                 0                   0         0           0             0           0              0         0         0        0                 0        0        0          0       0                       0                       0          0           0        0         0       0                    0             0                 0               0          0              0         0          0                0            0                     0        0        0          0            0        0         0         0                        0                    0          0          0        0                0          0           0                    0             0                        0                      0              0         0         0         0         0               0        0        0              0       0             0              0         0                 0                 0             0         0      0         0             0           0        0         0          0                    0          0         0       0             0            0           0          0          0                   0                0        0           0          7                                          3\n",
       "249  Etoffe                            0        0       0               0                   0        0                      0      0      0                   0         0         0         0         0        0       0               0            0         0             0                 0        0                0       0                 0        0      0                  0                   0                    0         0                  0       0        0        0            0         0                0             0        0           0          0                   0                          0           0                 0        0                0           0                  0         0                  0                  0          0                    0              0          0          0                                      0                     0          0           0      0                         0                                     0                  0                 0                    0                     0         0               0         0          0                       0       0            0                    0            0        0            0                  0                     0       0          0                    0         0          0      0            0                 0       0                       0         0       0          0        0              0                  0                   0                        ...    0               0       0         0      0                 0        0          0            0                 0                   0         0           0             0           0              0         0         0        0                 0        0        0          0       0                       0                       0          0           0        0         0       0                    0             0                 0               0          0              0         0          0                0            0                     0        0        0          0            0        0         0         0                        0                    0          0          0        0                0          0           0                    0             0                        0                      0              0         0         0         0         0               0        0        0              0       0             0              0         0                 0                 0             0         0      0         0             0           0        0         0          0                    0          0         0       0             0            0           0          0          0                   0                0        0           0          0"
      ]
     },
     "execution_count": 7,
     "metadata": {},
     "output_type": "execute_result"
    }
   ],
   "source": [
    "df4 = df_vaex_json.groupby(df_vaex_json.commodity_standardized_fr).agg(\n",
    "    {f'{product}': vaex.agg.count(df_vaex_json.travel_id, selection=df_vaex_json.commodity_standardized_fr == f'{product}') for product in products_list}\n",
    ")\n",
    "df4"
   ]
  },
  {
   "cell_type": "code",
   "execution_count": 23,
   "id": "dcd58c93-5e5b-481a-9cba-bc3945ce9333",
   "metadata": {},
   "outputs": [
    {
     "data": {
      "text/plain": [
       "pyarrow.Table\n",
       "departure: large_string\n",
       "0: int64\n",
       "-1: int64\n",
       "-2: int64\n",
       "-3: int64\n",
       "-4: int64\n",
       "-5: int64\n",
       "total: int64\n",
       "----\n",
       "departure: [[\"Rouen\",\"Le Havre\",\"La Rochelle\",\"Bordeaux\",\"Marennes\",...,\"La Mailleraye\",\"Concarneau\",\"Port-des-Barques\",\"Cargèse \",\"Luçon\"]]\n",
       "0: [[1852,1737,1165,1103,1127,...,0,0,0,0,0]]\n",
       "-1: [[7,3,2,2,0,...,0,0,0,0,1]]\n",
       "-2: [[9,10,3,1,0,...,1,1,0,0,0]]\n",
       "-3: [[5,2,18,3,1,...,0,0,0,0,0]]\n",
       "-4: [[97,144,61,82,24,...,0,0,1,1,0]]\n",
       "-5: [[5,1,27,11,0,...,0,0,0,0,0]]\n",
       "total: [[1975,1897,1276,1202,1152,...,1,1,1,1,1]]"
      ]
     },
     "execution_count": 23,
     "metadata": {},
     "output_type": "execute_result"
    }
   ],
   "source": [
    "df4.to_arrow_table()"
   ]
  },
  {
   "cell_type": "code",
   "execution_count": 24,
   "id": "cea938c7-7935-46ad-86c5-c0830dc46f99",
   "metadata": {},
   "outputs": [
    {
     "data": {
      "text/plain": [
       "Expression = departure\n",
       "Length: 201 dtype: large_string (column)\n",
       "----------------------------------------\n",
       "  0             Rouen\n",
       "  1          Le Havre\n",
       "  2       La Rochelle\n",
       "  3          Bordeaux\n",
       "  4          Marennes\n",
       "         ...         \n",
       "196     La Mailleraye\n",
       "197        Concarneau\n",
       "198  Port-des-Barques\n",
       "199           Cargèse\n",
       "200             Luçon"
      ]
     },
     "execution_count": 24,
     "metadata": {},
     "output_type": "execute_result"
    }
   ],
   "source": [
    "df4[\"departure\"]"
   ]
  },
  {
   "cell_type": "code",
   "execution_count": 5,
   "id": "fbc0f59c-b2df-4698-ad8b-712011998f8e",
   "metadata": {},
   "outputs": [],
   "source": [
    "products_list = df_vaex_json.commodity_standardized_fr.unique()"
   ]
  },
  {
   "cell_type": "code",
   "execution_count": 7,
   "id": "a50ee26a-39f6-4375-b2b2-bc4c85c7de3e",
   "metadata": {},
   "outputs": [
    {
     "data": {
      "text/plain": [
       "{'Savon': vaex.agg.count('travel_id'),\n",
       " 'Fèves': vaex.agg.count('travel_id'),\n",
       " 'Poudre à canon': vaex.agg.count('travel_id'),\n",
       " 'None': vaex.agg.count('travel_id'),\n",
       " 'Café': vaex.agg.count('travel_id'),\n",
       " 'Soude': vaex.agg.count('travel_id'),\n",
       " 'Canons': vaex.agg.count('travel_id'),\n",
       " 'Plâtre': vaex.agg.count('travel_id'),\n",
       " 'Fer': vaex.agg.count('travel_id'),\n",
       " 'Blé': vaex.agg.count('travel_id'),\n",
       " 'Cuivre': vaex.agg.count('travel_id'),\n",
       " 'Laine': vaex.agg.count('travel_id'),\n",
       " 'Orge': vaex.agg.count('travel_id'),\n",
       " 'Meubles': vaex.agg.count('travel_id'),\n",
       " 'Charbon de terre': vaex.agg.count('travel_id'),\n",
       " 'Charbon de bois': vaex.agg.count('travel_id'),\n",
       " 'Fagots': vaex.agg.count('travel_id'),\n",
       " 'Goudron': vaex.agg.count('travel_id'),\n",
       " 'Fumier': vaex.agg.count('travel_id'),\n",
       " 'Pêche des moules': vaex.agg.count('travel_id'),\n",
       " 'Huile': vaex.agg.count('travel_id'),\n",
       " 'Pêche au poisson frais': vaex.agg.count('travel_id'),\n",
       " 'Huitres': vaex.agg.count('travel_id'),\n",
       " 'Hardes de mer': vaex.agg.count('travel_id'),\n",
       " 'Graines de lin': vaex.agg.count('travel_id'),\n",
       " 'Moutarde': vaex.agg.count('travel_id'),\n",
       " 'Lest': vaex.agg.count('travel_id'),\n",
       " 'Morue verte': vaex.agg.count('travel_id'),\n",
       " 'Marchandises permises': vaex.agg.count('travel_id'),\n",
       " 'Suif': vaex.agg.count('travel_id'),\n",
       " 'Pommes': vaex.agg.count('travel_id'),\n",
       " 'Sucre': vaex.agg.count('travel_id'),\n",
       " 'Morue': vaex.agg.count('travel_id'),\n",
       " 'Diverses marchandises': vaex.agg.count('travel_id'),\n",
       " 'Sardines': vaex.agg.count('travel_id'),\n",
       " 'Charbon': vaex.agg.count('travel_id'),\n",
       " 'Pois': vaex.agg.count('travel_id'),\n",
       " 'Cendre de varech': vaex.agg.count('travel_id'),\n",
       " 'Pierres': vaex.agg.count('travel_id'),\n",
       " 'Bois de construction': vaex.agg.count('travel_id'),\n",
       " 'Froment': vaex.agg.count('travel_id'),\n",
       " 'Bois': vaex.agg.count('travel_id'),\n",
       " 'Sel': vaex.agg.count('travel_id'),\n",
       " 'Vide': vaex.agg.count('travel_id'),\n",
       " 'Ardoises': vaex.agg.count('travel_id'),\n",
       " 'Feuillard': vaex.agg.count('travel_id'),\n",
       " 'Lentilles': vaex.agg.count('travel_id'),\n",
       " 'Son': vaex.agg.count('travel_id'),\n",
       " 'Etoupe': vaex.agg.count('travel_id'),\n",
       " 'Poisson': vaex.agg.count('travel_id'),\n",
       " 'Salaisons': vaex.agg.count('travel_id'),\n",
       " 'Cendre': vaex.agg.count('travel_id'),\n",
       " 'Brai': vaex.agg.count('travel_id'),\n",
       " 'Lin': vaex.agg.count('travel_id'),\n",
       " 'Vinaigre': vaex.agg.count('travel_id'),\n",
       " 'Ustensiles de pêche': vaex.agg.count('travel_id'),\n",
       " 'Poisson sec': vaex.agg.count('travel_id'),\n",
       " 'Bouteilles ': vaex.agg.count('travel_id'),\n",
       " 'Terre de Broue [pour verrerie]': vaex.agg.count('travel_id'),\n",
       " 'Farine': vaex.agg.count('travel_id'),\n",
       " 'Planches': vaex.agg.count('travel_id'),\n",
       " 'Sardines pressées de Bretagne': vaex.agg.count('travel_id'),\n",
       " 'Fruits': vaex.agg.count('travel_id'),\n",
       " 'Avoine': vaex.agg.count('travel_id'),\n",
       " 'Bois à brûler': vaex.agg.count('travel_id'),\n",
       " 'Passagers': vaex.agg.count('travel_id'),\n",
       " 'Terre': vaex.agg.count('travel_id'),\n",
       " 'Biscuits': vaex.agg.count('travel_id'),\n",
       " 'Vin': vaex.agg.count('travel_id'),\n",
       " 'Pêche à la morue': vaex.agg.count('travel_id'),\n",
       " 'Vivres': vaex.agg.count('travel_id'),\n",
       " 'Beurre': vaex.agg.count('travel_id'),\n",
       " 'Briques': vaex.agg.count('travel_id'),\n",
       " 'Bois merrain': vaex.agg.count('travel_id'),\n",
       " 'Moules ': vaex.agg.count('travel_id'),\n",
       " 'Hardes': vaex.agg.count('travel_id'),\n",
       " 'Sardines salées': vaex.agg.count('travel_id'),\n",
       " 'Poterie': vaex.agg.count('travel_id'),\n",
       " 'Turbe': vaex.agg.count('travel_id'),\n",
       " 'Cercles': vaex.agg.count('travel_id'),\n",
       " 'Huile de poisson': vaex.agg.count('travel_id'),\n",
       " 'Grain': vaex.agg.count('travel_id'),\n",
       " 'Fromage': vaex.agg.count('travel_id'),\n",
       " 'Résine': vaex.agg.count('travel_id'),\n",
       " 'Fourrage': vaex.agg.count('travel_id'),\n",
       " 'Futailles vides': vaex.agg.count('travel_id'),\n",
       " 'Tuilles': vaex.agg.count('travel_id'),\n",
       " 'Morue sèche': vaex.agg.count('travel_id'),\n",
       " \"à l'aventure\": vaex.agg.count('travel_id'),\n",
       " 'Gréments de navire': vaex.agg.count('travel_id'),\n",
       " 'Pêche à la sardine': vaex.agg.count('travel_id'),\n",
       " 'Eau-de-vie': vaex.agg.count('travel_id'),\n",
       " 'Haricots blancs': vaex.agg.count('travel_id'),\n",
       " 'Chaux': vaex.agg.count('travel_id'),\n",
       " 'Chanvre': vaex.agg.count('travel_id'),\n",
       " \"Marchandises d'un naufrage\": vaex.agg.count('travel_id'),\n",
       " 'Bois de chauffage': vaex.agg.count('travel_id'),\n",
       " 'Peaux de bœ\\x9c\\x9cuf': vaex.agg.count('travel_id'),\n",
       " 'Pierre de taille': vaex.agg.count('travel_id'),\n",
       " 'Coton': vaex.agg.count('travel_id'),\n",
       " 'Lard salé': vaex.agg.count('travel_id'),\n",
       " 'Vinatérie': vaex.agg.count('travel_id'),\n",
       " 'Seigle': vaex.agg.count('travel_id'),\n",
       " 'Bière': vaex.agg.count('travel_id'),\n",
       " 'Oignons': vaex.agg.count('travel_id'),\n",
       " 'Verre cassé': vaex.agg.count('travel_id')}"
      ]
     },
     "execution_count": 7,
     "metadata": {},
     "output_type": "execute_result"
    }
   ],
   "source": [
    "{f'{product}': vaex.agg.count(df_vaex_json.travel_id, selection=df_vaex_json.commodity_standardized_fr == f'{product}') for product in products_list}"
   ]
  },
  {
   "cell_type": "code",
   "execution_count": 8,
   "id": "614f66a3-404c-45b5-bb59-7385f81ee56d",
   "metadata": {},
   "outputs": [
    {
     "data": {
      "application/vnd.jupyter.widget-view+json": {
       "model_id": "aa60be37148447a5bf6dd7ca7de7a09a",
       "version_major": 2,
       "version_minor": 0
      },
      "text/plain": [
       "HBox(children=(FloatProgress(value=0.0, max=1.0), Label(value='In progress...')))"
      ]
     },
     "metadata": {},
     "output_type": "display_data"
    },
    {
     "data": {
      "text/html": [
       "<table>\n",
       "<thead>\n",
       "<tr><th>#                             </th><th>outdate_fixed_datetime_month_number  </th><th>Savon  </th><th>Fèves  </th><th>Poudre à canon  </th><th>None  </th><th>Café  </th><th>Soude  </th><th>Canons  </th><th>Plâtre  </th><th>Fer  </th><th>Blé  </th><th>Cuivre  </th><th>Laine  </th><th>Orge  </th><th>Meubles  </th><th>Charbon de terre  </th><th>Charbon de bois  </th><th>Fagots  </th><th>Goudron  </th><th>Fumier  </th><th>Pêche des moules  </th><th>Huile  </th><th>Pêche au poisson frais  </th><th>Huitres  </th><th>Hardes de mer  </th><th>Graines de lin  </th><th>Moutarde  </th><th>Lest  </th><th>Morue verte  </th><th>Marchandises permises  </th><th>Suif  </th><th>Pommes  </th><th>Sucre  </th><th>Morue  </th><th>Diverses marchandises  </th><th>Sardines  </th><th>Charbon  </th><th>Pois  </th><th>Cendre de varech  </th><th>Pierres  </th><th>Bois de construction  </th><th>Froment  </th><th>Bois  </th><th>Sel  </th><th>Vide  </th><th>Ardoises  </th><th>Feuillard  </th><th>Lentilles  </th><th>Son  </th><th>Etoupe  </th><th>Poisson  </th><th>Salaisons  </th><th>Cendre  </th><th>Brai  </th><th>Lin  </th><th>Vinaigre  </th><th>Ustensiles de pêche  </th><th>Poisson sec  </th><th>Bouteilles   </th><th>Terre de Broue [pour verrerie]  </th><th>Farine  </th><th>Planches  </th><th>Sardines pressées de Bretagne  </th><th>Fruits  </th><th>Avoine  </th><th>Bois à brûler  </th><th>Passagers  </th><th>Terre  </th><th>Biscuits  </th><th>Vin  </th><th>Pêche à la morue  </th><th>Vivres  </th><th>Beurre  </th><th>Briques  </th><th>Bois merrain  </th><th>Moules   </th><th>Hardes  </th><th>Sardines salées  </th><th>Poterie  </th><th>Turbe  </th><th>Cercles  </th><th>Huile de poisson  </th><th>Grain  </th><th>Fromage  </th><th>Résine  </th><th>Fourrage  </th><th>Futailles vides  </th><th>Tuilles  </th><th>Morue sèche  </th><th>à l&#x27;aventure  </th><th>Gréments de navire  </th><th>Pêche à la sardine  </th><th>Eau-de-vie  </th><th>Haricots blancs  </th><th>Chaux  </th><th>Chanvre  </th><th>Marchandises d&#x27;un naufrage  </th><th>Bois de chauffage  </th><th>Peaux de bœuf    </th><th>Pierre de taille  </th><th>Coton  </th><th>Lard salé  </th><th>Vinatérie  </th><th>Seigle  </th><th>Bière  </th><th>Oignons  </th><th>Verre cassé  </th></tr>\n",
       "</thead>\n",
       "<tbody>\n",
       "<tr><td><i style='opacity: 0.6'>0</i> </td><td>1                                    </td><td>0      </td><td>3      </td><td>0               </td><td>0     </td><td>0     </td><td>14     </td><td>0       </td><td>7       </td><td>4    </td><td>18   </td><td>0       </td><td>0      </td><td>1     </td><td>0        </td><td>5                 </td><td>2                </td><td>5       </td><td>2        </td><td>0       </td><td>0                 </td><td>18     </td><td>19                      </td><td>5        </td><td>0              </td><td>6               </td><td>0         </td><td>265   </td><td>0            </td><td>0                      </td><td>2     </td><td>0       </td><td>4      </td><td>7      </td><td>57                     </td><td>5         </td><td>6        </td><td>0     </td><td>2                 </td><td>4        </td><td>13                    </td><td>22       </td><td>28    </td><td>147  </td><td>125   </td><td>0         </td><td>0          </td><td>0          </td><td>2    </td><td>0       </td><td>0        </td><td>1          </td><td>2       </td><td>3     </td><td>0    </td><td>1         </td><td>0                    </td><td>0            </td><td>4            </td><td>0                               </td><td>7       </td><td>16        </td><td>0                              </td><td>1       </td><td>4       </td><td>30             </td><td>11         </td><td>0      </td><td>0         </td><td>157  </td><td>0                 </td><td>0       </td><td>2       </td><td>2        </td><td>3             </td><td>0        </td><td>0       </td><td>0                </td><td>0        </td><td>0      </td><td>0        </td><td>0                 </td><td>14     </td><td>4        </td><td>9       </td><td>1         </td><td>33               </td><td>0        </td><td>2            </td><td>0             </td><td>0                   </td><td>0                   </td><td>23          </td><td>1                </td><td>5      </td><td>1        </td><td>0                           </td><td>10                 </td><td>0  </td><td>7                 </td><td>1      </td><td>0          </td><td>0          </td><td>0       </td><td>1      </td><td>2        </td><td>0            </td></tr>\n",
       "<tr><td><i style='opacity: 0.6'>1</i> </td><td>2                                    </td><td>0      </td><td>4      </td><td>1               </td><td>0     </td><td>0     </td><td>1      </td><td>0       </td><td>5       </td><td>6    </td><td>28   </td><td>1       </td><td>1      </td><td>4     </td><td>3        </td><td>3                 </td><td>1                </td><td>7       </td><td>0        </td><td>2       </td><td>0                 </td><td>24     </td><td>25                      </td><td>15       </td><td>0              </td><td>11              </td><td>0         </td><td>192   </td><td>3            </td><td>0                      </td><td>0     </td><td>0       </td><td>1      </td><td>3      </td><td>53                     </td><td>0         </td><td>3        </td><td>1     </td><td>0                 </td><td>4        </td><td>7                     </td><td>9        </td><td>20    </td><td>120  </td><td>59    </td><td>0         </td><td>3          </td><td>0          </td><td>0    </td><td>0       </td><td>0        </td><td>2          </td><td>0       </td><td>0     </td><td>0    </td><td>1         </td><td>0                    </td><td>0            </td><td>6            </td><td>0                               </td><td>17      </td><td>18        </td><td>0                              </td><td>0       </td><td>2       </td><td>22             </td><td>21         </td><td>0      </td><td>0         </td><td>147  </td><td>7                 </td><td>0       </td><td>0       </td><td>1        </td><td>2             </td><td>0        </td><td>1       </td><td>0                </td><td>1        </td><td>0      </td><td>0        </td><td>0                 </td><td>10     </td><td>1        </td><td>15      </td><td>0         </td><td>30               </td><td>0        </td><td>1            </td><td>0             </td><td>1                   </td><td>0                   </td><td>24          </td><td>1                </td><td>5      </td><td>0        </td><td>2                           </td><td>14                 </td><td>0  </td><td>1                 </td><td>0      </td><td>0          </td><td>0          </td><td>0       </td><td>0      </td><td>0        </td><td>0            </td></tr>\n",
       "<tr><td><i style='opacity: 0.6'>2</i> </td><td>3                                    </td><td>2      </td><td>0      </td><td>1               </td><td>0     </td><td>1     </td><td>18     </td><td>0       </td><td>7       </td><td>6    </td><td>22   </td><td>0       </td><td>0      </td><td>2     </td><td>1        </td><td>12                </td><td>2                </td><td>5       </td><td>2        </td><td>3       </td><td>0                 </td><td>36     </td><td>12                      </td><td>24       </td><td>0              </td><td>4               </td><td>0         </td><td>257   </td><td>1            </td><td>1                      </td><td>1     </td><td>0       </td><td>7      </td><td>1      </td><td>55                     </td><td>1         </td><td>13       </td><td>0     </td><td>0                 </td><td>14       </td><td>22                    </td><td>15       </td><td>28    </td><td>193  </td><td>70    </td><td>0         </td><td>5          </td><td>0          </td><td>1    </td><td>0       </td><td>0        </td><td>0          </td><td>1       </td><td>4     </td><td>1    </td><td>4         </td><td>3                    </td><td>0            </td><td>6            </td><td>0                               </td><td>15      </td><td>21        </td><td>0                              </td><td>1       </td><td>0       </td><td>27             </td><td>20         </td><td>0      </td><td>0         </td><td>163  </td><td>34                </td><td>0       </td><td>0       </td><td>0        </td><td>3             </td><td>6        </td><td>1       </td><td>0                </td><td>4        </td><td>0      </td><td>1        </td><td>0                 </td><td>8      </td><td>0        </td><td>14      </td><td>3         </td><td>47               </td><td>0        </td><td>0            </td><td>0             </td><td>0                   </td><td>0                   </td><td>18          </td><td>0                </td><td>15     </td><td>0        </td><td>0                           </td><td>17                 </td><td>0  </td><td>0                 </td><td>0      </td><td>0          </td><td>2          </td><td>2       </td><td>1      </td><td>0        </td><td>0            </td></tr>\n",
       "<tr><td><i style='opacity: 0.6'>3</i> </td><td>4                                    </td><td>2      </td><td>1      </td><td>1               </td><td>0     </td><td>0     </td><td>11     </td><td>0       </td><td>5       </td><td>1    </td><td>14   </td><td>1       </td><td>1      </td><td>0     </td><td>2        </td><td>4                 </td><td>0                </td><td>5       </td><td>1        </td><td>3       </td><td>1                 </td><td>16     </td><td>4                       </td><td>4        </td><td>0              </td><td>1               </td><td>0         </td><td>283   </td><td>0            </td><td>0                      </td><td>0     </td><td>0       </td><td>4      </td><td>1      </td><td>40                     </td><td>0         </td><td>9        </td><td>0     </td><td>0                 </td><td>4        </td><td>13                    </td><td>6        </td><td>24    </td><td>262  </td><td>82    </td><td>0         </td><td>6          </td><td>0          </td><td>1    </td><td>0       </td><td>0        </td><td>0          </td><td>4       </td><td>3     </td><td>1    </td><td>0         </td><td>2                    </td><td>0            </td><td>3            </td><td>0                               </td><td>13      </td><td>16        </td><td>0                              </td><td>0       </td><td>1       </td><td>31             </td><td>24         </td><td>0      </td><td>0         </td><td>125  </td><td>2                 </td><td>0       </td><td>4       </td><td>1        </td><td>4             </td><td>2        </td><td>0       </td><td>0                </td><td>0        </td><td>2      </td><td>0        </td><td>0                 </td><td>10     </td><td>0        </td><td>4       </td><td>0         </td><td>34               </td><td>1        </td><td>0            </td><td>0             </td><td>0                   </td><td>0                   </td><td>13          </td><td>0                </td><td>19     </td><td>0        </td><td>0                           </td><td>6                  </td><td>0  </td><td>0                 </td><td>0      </td><td>0          </td><td>4          </td><td>0       </td><td>2      </td><td>0        </td><td>0            </td></tr>\n",
       "<tr><td><i style='opacity: 0.6'>4</i> </td><td>5                                    </td><td>2      </td><td>1      </td><td>0               </td><td>0     </td><td>0     </td><td>7      </td><td>3       </td><td>3       </td><td>9    </td><td>16   </td><td>1       </td><td>1      </td><td>1     </td><td>2        </td><td>10                </td><td>1                </td><td>1       </td><td>2        </td><td>1       </td><td>0                 </td><td>16     </td><td>8                       </td><td>0        </td><td>1              </td><td>0               </td><td>0         </td><td>261   </td><td>0            </td><td>0                      </td><td>0     </td><td>0       </td><td>2      </td><td>1      </td><td>24                     </td><td>0         </td><td>6        </td><td>0     </td><td>2                 </td><td>28       </td><td>20                    </td><td>6        </td><td>27    </td><td>231  </td><td>71    </td><td>0         </td><td>8          </td><td>0          </td><td>2    </td><td>1       </td><td>0        </td><td>0          </td><td>6       </td><td>0     </td><td>2    </td><td>3         </td><td>0                    </td><td>0            </td><td>3            </td><td>0                               </td><td>15      </td><td>33        </td><td>0                              </td><td>0       </td><td>6       </td><td>25             </td><td>27         </td><td>3      </td><td>0         </td><td>126  </td><td>0                 </td><td>0       </td><td>1       </td><td>2        </td><td>6             </td><td>0        </td><td>0       </td><td>0                </td><td>0        </td><td>0      </td><td>0        </td><td>1                 </td><td>8      </td><td>1        </td><td>13      </td><td>2         </td><td>34               </td><td>4        </td><td>0            </td><td>1             </td><td>0                   </td><td>0                   </td><td>12          </td><td>0                </td><td>15     </td><td>3        </td><td>2                           </td><td>13                 </td><td>0  </td><td>0                 </td><td>0      </td><td>0          </td><td>0          </td><td>1       </td><td>0      </td><td>0        </td><td>0            </td></tr>\n",
       "<tr><td>...                           </td><td>...                                  </td><td>...    </td><td>...    </td><td>...             </td><td>...   </td><td>...   </td><td>...    </td><td>...     </td><td>...     </td><td>...  </td><td>...  </td><td>...     </td><td>...    </td><td>...   </td><td>...      </td><td>...               </td><td>...              </td><td>...     </td><td>...      </td><td>...     </td><td>...               </td><td>...    </td><td>...                     </td><td>...      </td><td>...            </td><td>...             </td><td>...       </td><td>...   </td><td>...          </td><td>...                    </td><td>...   </td><td>...     </td><td>...    </td><td>...    </td><td>...                    </td><td>...       </td><td>...      </td><td>...   </td><td>...               </td><td>...      </td><td>...                   </td><td>...      </td><td>...   </td><td>...  </td><td>...   </td><td>...       </td><td>...        </td><td>...        </td><td>...  </td><td>...     </td><td>...      </td><td>...        </td><td>...     </td><td>...   </td><td>...  </td><td>...       </td><td>...                  </td><td>...          </td><td>...          </td><td>...                             </td><td>...     </td><td>...       </td><td>...                            </td><td>...     </td><td>...     </td><td>...            </td><td>...        </td><td>...    </td><td>...       </td><td>...  </td><td>...               </td><td>...     </td><td>...     </td><td>...      </td><td>...           </td><td>...      </td><td>...     </td><td>...              </td><td>...      </td><td>...    </td><td>...      </td><td>...               </td><td>...    </td><td>...      </td><td>...     </td><td>...       </td><td>...              </td><td>...      </td><td>...          </td><td>...           </td><td>...                 </td><td>...                 </td><td>...         </td><td>...              </td><td>...    </td><td>...      </td><td>...                         </td><td>...                </td><td>...</td><td>...               </td><td>...    </td><td>...        </td><td>...        </td><td>...     </td><td>...    </td><td>...      </td><td>...          </td></tr>\n",
       "<tr><td><i style='opacity: 0.6'>7</i> </td><td>8                                    </td><td>0      </td><td>8      </td><td>1               </td><td>0     </td><td>3     </td><td>8      </td><td>2       </td><td>12      </td><td>1    </td><td>27   </td><td>0       </td><td>0      </td><td>0     </td><td>2        </td><td>8                 </td><td>3                </td><td>4       </td><td>4        </td><td>1       </td><td>0                 </td><td>11     </td><td>13                      </td><td>12       </td><td>1              </td><td>1               </td><td>1         </td><td>387   </td><td>1            </td><td>0                      </td><td>0     </td><td>0       </td><td>4      </td><td>0      </td><td>47                     </td><td>5         </td><td>11       </td><td>0     </td><td>0                 </td><td>13       </td><td>17                    </td><td>3        </td><td>23    </td><td>220  </td><td>116   </td><td>0         </td><td>7          </td><td>2          </td><td>2    </td><td>0       </td><td>1        </td><td>0          </td><td>2       </td><td>1     </td><td>0    </td><td>3         </td><td>1                    </td><td>1            </td><td>4            </td><td>2                               </td><td>11      </td><td>23        </td><td>1                              </td><td>0       </td><td>4       </td><td>46             </td><td>31         </td><td>0      </td><td>0         </td><td>83   </td><td>0                 </td><td>1       </td><td>11      </td><td>0        </td><td>1             </td><td>3        </td><td>0       </td><td>0                </td><td>4        </td><td>0      </td><td>1        </td><td>0                 </td><td>2      </td><td>1        </td><td>11      </td><td>3         </td><td>42               </td><td>5        </td><td>0            </td><td>0             </td><td>0                   </td><td>1                   </td><td>29          </td><td>0                </td><td>23     </td><td>0        </td><td>0                           </td><td>20                 </td><td>0  </td><td>1                 </td><td>0      </td><td>0          </td><td>1          </td><td>0       </td><td>0      </td><td>1        </td><td>0            </td></tr>\n",
       "<tr><td><i style='opacity: 0.6'>8</i> </td><td>9                                    </td><td>0      </td><td>6      </td><td>2               </td><td>0     </td><td>1     </td><td>8      </td><td>0       </td><td>8       </td><td>3    </td><td>17   </td><td>0       </td><td>2      </td><td>0     </td><td>1        </td><td>5                 </td><td>1                </td><td>3       </td><td>3        </td><td>0       </td><td>0                 </td><td>17     </td><td>11                      </td><td>36       </td><td>2              </td><td>0               </td><td>0         </td><td>285   </td><td>1            </td><td>1                      </td><td>0     </td><td>0       </td><td>3      </td><td>4      </td><td>51                     </td><td>1         </td><td>3        </td><td>1     </td><td>0                 </td><td>7        </td><td>14                    </td><td>20       </td><td>20    </td><td>191  </td><td>96    </td><td>4         </td><td>1          </td><td>1          </td><td>1    </td><td>0       </td><td>0        </td><td>0          </td><td>1       </td><td>2     </td><td>0    </td><td>1         </td><td>1                    </td><td>0            </td><td>4            </td><td>2                               </td><td>8       </td><td>31        </td><td>1                              </td><td>0       </td><td>8       </td><td>23             </td><td>18         </td><td>0      </td><td>0         </td><td>62   </td><td>0                 </td><td>0       </td><td>11      </td><td>0        </td><td>0             </td><td>2        </td><td>0       </td><td>2                </td><td>4        </td><td>0      </td><td>0        </td><td>2                 </td><td>4      </td><td>1        </td><td>8       </td><td>0         </td><td>18               </td><td>6        </td><td>0            </td><td>0             </td><td>0                   </td><td>2                   </td><td>20          </td><td>0                </td><td>9      </td><td>2        </td><td>0                           </td><td>8                  </td><td>0  </td><td>1                 </td><td>1      </td><td>0          </td><td>0          </td><td>0       </td><td>0      </td><td>1        </td><td>0            </td></tr>\n",
       "<tr><td><i style='opacity: 0.6'>9</i> </td><td>10                                   </td><td>0      </td><td>10     </td><td>1               </td><td>0     </td><td>2     </td><td>13     </td><td>4       </td><td>3       </td><td>4    </td><td>39   </td><td>0       </td><td>2      </td><td>1     </td><td>0        </td><td>4                 </td><td>0                </td><td>2       </td><td>1        </td><td>0       </td><td>0                 </td><td>8      </td><td>2                       </td><td>58       </td><td>0              </td><td>1               </td><td>0         </td><td>258   </td><td>0            </td><td>3                      </td><td>0     </td><td>0       </td><td>3      </td><td>9      </td><td>43                     </td><td>5         </td><td>5        </td><td>0     </td><td>1                 </td><td>4        </td><td>7                     </td><td>22       </td><td>14    </td><td>128  </td><td>71    </td><td>1         </td><td>1          </td><td>0          </td><td>2    </td><td>0       </td><td>2        </td><td>0          </td><td>1       </td><td>4     </td><td>0    </td><td>0         </td><td>0                    </td><td>0            </td><td>3            </td><td>0                               </td><td>14      </td><td>19        </td><td>3                              </td><td>0       </td><td>5       </td><td>27             </td><td>24         </td><td>0      </td><td>0         </td><td>152  </td><td>0                 </td><td>0       </td><td>4       </td><td>0        </td><td>2             </td><td>0        </td><td>1       </td><td>0                </td><td>1        </td><td>0      </td><td>0        </td><td>0                 </td><td>3      </td><td>0        </td><td>10      </td><td>3         </td><td>15               </td><td>0        </td><td>0            </td><td>0             </td><td>0                   </td><td>3                   </td><td>20          </td><td>0                </td><td>8      </td><td>1        </td><td>0                           </td><td>7                  </td><td>1  </td><td>0                 </td><td>0      </td><td>0          </td><td>0          </td><td>0       </td><td>0      </td><td>4        </td><td>0            </td></tr>\n",
       "<tr><td><i style='opacity: 0.6'>10</i></td><td>11                                   </td><td>2      </td><td>6      </td><td>0               </td><td>0     </td><td>0     </td><td>11     </td><td>1       </td><td>4       </td><td>2    </td><td>38   </td><td>0       </td><td>2      </td><td>1     </td><td>0        </td><td>2                 </td><td>3                </td><td>2       </td><td>1        </td><td>0       </td><td>0                 </td><td>11     </td><td>0                       </td><td>67       </td><td>2              </td><td>0               </td><td>0         </td><td>215   </td><td>0            </td><td>0                      </td><td>1     </td><td>1       </td><td>2      </td><td>8      </td><td>31                     </td><td>5         </td><td>2        </td><td>0     </td><td>1                 </td><td>5        </td><td>7                     </td><td>31       </td><td>20    </td><td>118  </td><td>97    </td><td>0         </td><td>2          </td><td>1          </td><td>1    </td><td>0       </td><td>1        </td><td>0          </td><td>0       </td><td>0     </td><td>0    </td><td>3         </td><td>0                    </td><td>0            </td><td>4            </td><td>0                               </td><td>10      </td><td>14        </td><td>2                              </td><td>0       </td><td>5       </td><td>18             </td><td>18         </td><td>0      </td><td>0         </td><td>140  </td><td>0                 </td><td>1       </td><td>5       </td><td>2        </td><td>1             </td><td>0        </td><td>0       </td><td>0                </td><td>3        </td><td>0      </td><td>0        </td><td>0                 </td><td>6      </td><td>1        </td><td>2       </td><td>3         </td><td>15               </td><td>0        </td><td>0            </td><td>0             </td><td>0                   </td><td>0                   </td><td>18          </td><td>2                </td><td>14     </td><td>5        </td><td>0                           </td><td>5                  </td><td>2  </td><td>0                 </td><td>1      </td><td>0          </td><td>1          </td><td>1       </td><td>0      </td><td>1        </td><td>0            </td></tr>\n",
       "<tr><td><i style='opacity: 0.6'>11</i></td><td>12                                   </td><td>1      </td><td>6      </td><td>0               </td><td>0     </td><td>1     </td><td>7      </td><td>0       </td><td>2       </td><td>6    </td><td>20   </td><td>0       </td><td>0      </td><td>0     </td><td>0        </td><td>5                 </td><td>0                </td><td>2       </td><td>1        </td><td>0       </td><td>0                 </td><td>14     </td><td>0                       </td><td>24       </td><td>0              </td><td>0               </td><td>0         </td><td>188   </td><td>4            </td><td>0                      </td><td>0     </td><td>0       </td><td>2      </td><td>2      </td><td>35                     </td><td>2         </td><td>1        </td><td>0     </td><td>1                 </td><td>0        </td><td>6                     </td><td>11       </td><td>15    </td><td>93   </td><td>53    </td><td>0         </td><td>0          </td><td>1          </td><td>1    </td><td>0       </td><td>0        </td><td>0          </td><td>0       </td><td>4     </td><td>0    </td><td>0         </td><td>0                    </td><td>0            </td><td>3            </td><td>0                               </td><td>11      </td><td>16        </td><td>0                              </td><td>0       </td><td>5       </td><td>20             </td><td>11         </td><td>0      </td><td>1         </td><td>128  </td><td>0                 </td><td>2       </td><td>2       </td><td>2        </td><td>0             </td><td>0        </td><td>0       </td><td>0                </td><td>1        </td><td>0      </td><td>0        </td><td>0                 </td><td>9      </td><td>0        </td><td>10      </td><td>0         </td><td>13               </td><td>0        </td><td>0            </td><td>2             </td><td>0                   </td><td>0                   </td><td>18          </td><td>0                </td><td>3      </td><td>4        </td><td>1                           </td><td>2                  </td><td>0  </td><td>2                 </td><td>1      </td><td>0          </td><td>2          </td><td>1       </td><td>0      </td><td>0        </td><td>0            </td></tr>\n",
       "</tbody>\n",
       "</table>"
      ],
      "text/plain": [
       "#    outdate_fixed_datetime_month_number    Savon    Fèves    Poudre à canon    None    Café    Soude    Canons    Plâtre    Fer    Blé    Cuivre    Laine    Orge    Meubles    Charbon de terre    Charbon de bois    Fagots    Goudron    Fumier    Pêche des moules    Huile    Pêche au poisson frais    Huitres    Hardes de mer    Graines de lin    Moutarde    Lest    Morue verte    Marchandises permises    Suif    Pommes    Sucre    Morue    Diverses marchandises    Sardines    Charbon    Pois    Cendre de varech    Pierres    Bois de construction    Froment    Bois    Sel    Vide    Ardoises    Feuillard    Lentilles    Son    Etoupe    Poisson    Salaisons    Cendre    Brai    Lin    Vinaigre    Ustensiles de pêche    Poisson sec    Bouteilles     Terre de Broue [pour verrerie]    Farine    Planches    Sardines pressées de Bretagne    Fruits    Avoine    Bois à brûler    Passagers    Terre    Biscuits    Vin    Pêche à la morue    Vivres    Beurre    Briques    Bois merrain    Moules     Hardes    Sardines salées    Poterie    Turbe    Cercles    Huile de poisson    Grain    Fromage    Résine    Fourrage    Futailles vides    Tuilles    Morue sèche    à l'aventure    Gréments de navire    Pêche à la sardine    Eau-de-vie    Haricots blancs    Chaux    Chanvre    Marchandises d'un naufrage    Bois de chauffage    Peaux de bœuf      Pierre de taille    Coton    Lard salé    Vinatérie    Seigle    Bière    Oignons    Verre cassé\n",
       "0    1                                      0        3        0                 0       0       14       0         7         4      18     0         0        1       0          5                   2                  5         2          0         0                   18       19                        5          0                6                 0           265     0              0                        2       0         4        7        57                       5           6          0       2                   4          13                      22         28      147    125     0           0            0            2      0         0          1            2         3       0      1           0                      0              4              0                                 7         16          0                                1         4         30               11           0        0           157    0                   0         2         2          3               0          0         0                  0          0        0          0                   14       4          9         1           33                 0          2              0               0                     0                     23            1                  5        1          0                             10                   0    7                   1        0            0            0         1        2          0\n",
       "1    2                                      0        4        1                 0       0       1        0         5         6      28     1         1        4       3          3                   1                  7         0          2         0                   24       25                        15         0                11                0           192     3              0                        0       0         1        3        53                       0           3          1       0                   4          7                       9          20      120    59      0           3            0            0      0         0          2            0         0       0      1           0                      0              6              0                                 17        18          0                                0         2         22               21           0        0           147    7                   0         0         1          2               0          1         0                  1          0        0          0                   10       1          15        0           30                 0          1              0               1                     0                     24            1                  5        0          2                             14                   0    1                   0        0            0            0         0        0          0\n",
       "2    3                                      2        0        1                 0       1       18       0         7         6      22     0         0        2       1          12                  2                  5         2          3         0                   36       12                        24         0                4                 0           257     1              1                        1       0         7        1        55                       1           13         0       0                   14         22                      15         28      193    70      0           5            0            1      0         0          0            1         4       1      4           3                      0              6              0                                 15        21          0                                1         0         27               20           0        0           163    34                  0         0         0          3               6          1         0                  4          0        1          0                   8        0          14        3           47                 0          0              0               0                     0                     18            0                  15       0          0                             17                   0    0                   0        0            2            2         1        0          0\n",
       "3    4                                      2        1        1                 0       0       11       0         5         1      14     1         1        0       2          4                   0                  5         1          3         1                   16       4                         4          0                1                 0           283     0              0                        0       0         4        1        40                       0           9          0       0                   4          13                      6          24      262    82      0           6            0            1      0         0          0            4         3       1      0           2                      0              3              0                                 13        16          0                                0         1         31               24           0        0           125    2                   0         4         1          4               2          0         0                  0          2        0          0                   10       0          4         0           34                 1          0              0               0                     0                     13            0                  19       0          0                             6                    0    0                   0        0            4            0         2        0          0\n",
       "4    5                                      2        1        0                 0       0       7        3         3         9      16     1         1        1       2          10                  1                  1         2          1         0                   16       8                         0          1                0                 0           261     0              0                        0       0         2        1        24                       0           6          0       2                   28         20                      6          27      231    71      0           8            0            2      1         0          0            6         0       2      3           0                      0              3              0                                 15        33          0                                0         6         25               27           3        0           126    0                   0         1         2          6               0          0         0                  0          0        0          1                   8        1          13        2           34                 4          0              1               0                     0                     12            0                  15       3          2                             13                   0    0                   0        0            0            1         0        0          0\n",
       "...  ...                                    ...      ...      ...               ...     ...     ...      ...       ...       ...    ...    ...       ...      ...     ...        ...                 ...                ...       ...        ...       ...                 ...      ...                       ...        ...              ...               ...         ...     ...            ...                      ...     ...       ...      ...      ...                      ...         ...        ...     ...                 ...        ...                     ...        ...     ...    ...     ...         ...          ...          ...    ...       ...        ...          ...       ...     ...    ...         ...                    ...            ...            ...                               ...       ...         ...                              ...       ...       ...              ...          ...      ...         ...    ...                 ...       ...       ...        ...             ...        ...       ...                ...        ...      ...        ...                 ...      ...        ...       ...         ...                ...        ...            ...             ...                   ...                   ...           ...                ...      ...        ...                           ...                  ...  ...                 ...      ...          ...          ...       ...      ...        ...\n",
       "7    8                                      0        8        1                 0       3       8        2         12        1      27     0         0        0       2          8                   3                  4         4          1         0                   11       13                        12         1                1                 1           387     1              0                        0       0         4        0        47                       5           11         0       0                   13         17                      3          23      220    116     0           7            2            2      0         1          0            2         1       0      3           1                      1              4              2                                 11        23          1                                0         4         46               31           0        0           83     0                   1         11        0          1               3          0         0                  4          0        1          0                   2        1          11        3           42                 5          0              0               0                     1                     29            0                  23       0          0                             20                   0    1                   0        0            1            0         0        1          0\n",
       "8    9                                      0        6        2                 0       1       8        0         8         3      17     0         2        0       1          5                   1                  3         3          0         0                   17       11                        36         2                0                 0           285     1              1                        0       0         3        4        51                       1           3          1       0                   7          14                      20         20      191    96      4           1            1            1      0         0          0            1         2       0      1           1                      0              4              2                                 8         31          1                                0         8         23               18           0        0           62     0                   0         11        0          0               2          0         2                  4          0        0          2                   4        1          8         0           18                 6          0              0               0                     2                     20            0                  9        2          0                             8                    0    1                   1        0            0            0         0        1          0\n",
       "9    10                                     0        10       1                 0       2       13       4         3         4      39     0         2        1       0          4                   0                  2         1          0         0                   8        2                         58         0                1                 0           258     0              3                        0       0         3        9        43                       5           5          0       1                   4          7                       22         14      128    71      1           1            0            2      0         2          0            1         4       0      0           0                      0              3              0                                 14        19          3                                0         5         27               24           0        0           152    0                   0         4         0          2               0          1         0                  1          0        0          0                   3        0          10        3           15                 0          0              0               0                     3                     20            0                  8        1          0                             7                    1    0                   0        0            0            0         0        4          0\n",
       "10   11                                     2        6        0                 0       0       11       1         4         2      38     0         2        1       0          2                   3                  2         1          0         0                   11       0                         67         2                0                 0           215     0              0                        1       1         2        8        31                       5           2          0       1                   5          7                       31         20      118    97      0           2            1            1      0         1          0            0         0       0      3           0                      0              4              0                                 10        14          2                                0         5         18               18           0        0           140    0                   1         5         2          1               0          0         0                  3          0        0          0                   6        1          2         3           15                 0          0              0               0                     0                     18            2                  14       5          0                             5                    2    0                   1        0            1            1         0        1          0\n",
       "11   12                                     1        6        0                 0       1       7        0         2         6      20     0         0        0       0          5                   0                  2         1          0         0                   14       0                         24         0                0                 0           188     4              0                        0       0         2        2        35                       2           1          0       1                   0          6                       11         15      93     53      0           0            1            1      0         0          0            0         4       0      0           0                      0              3              0                                 11        16          0                                0         5         20               11           0        1           128    0                   2         2         2          0               0          0         0                  1          0        0          0                   9        0          10        0           13                 0          0              2               0                     0                     18            0                  3        4          1                             2                    0    2                   1        0            2            1         0        0          0"
      ]
     },
     "execution_count": 8,
     "metadata": {},
     "output_type": "execute_result"
    }
   ],
   "source": [
    "df_vaex_json.groupby(df_vaex_json.outdate_fixed_datetime_month_number, progress='widget').agg(\n",
    "    {f'{product}': vaex.agg.count(df_vaex_json.travel_id, selection=df_vaex_json.commodity_standardized_fr == f'{product}') for product in products_list}\n",
    ")"
   ]
  },
  {
   "cell_type": "code",
   "execution_count": 11,
   "id": "a1f97145-1258-42bf-913f-3eef31a8bc77",
   "metadata": {},
   "outputs": [
    {
     "data": {
      "text/plain": [
       "array(13548, dtype=int64)"
      ]
     },
     "execution_count": 11,
     "metadata": {},
     "output_type": "execute_result"
    }
   ],
   "source": [
    "df_vaex_json[df_vaex_json.commodity_standardized_fr.notna()].travel_id.count()"
   ]
  },
  {
   "cell_type": "code",
   "execution_count": null,
   "id": "638e67ae-d676-4b4f-b730-8d30da8a4a55",
   "metadata": {},
   "outputs": [],
   "source": []
  }
 ],
 "metadata": {
  "kernelspec": {
   "display_name": "Python 3 (ipykernel)",
   "language": "python",
   "name": "python3"
  },
  "language_info": {
   "codemirror_mode": {
    "name": "ipython",
    "version": 3
   },
   "file_extension": ".py",
   "mimetype": "text/x-python",
   "name": "python",
   "nbconvert_exporter": "python",
   "pygments_lexer": "ipython3",
   "version": "3.8.15"
  }
 },
 "nbformat": 4,
 "nbformat_minor": 5
}
